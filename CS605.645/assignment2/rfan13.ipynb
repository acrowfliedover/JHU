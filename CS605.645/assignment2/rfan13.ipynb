{
 "cells": [
  {
   "cell_type": "code",
   "execution_count": 1,
   "metadata": {},
   "outputs": [],
   "source": [
    "%matplotlib inline"
   ]
  },
  {
   "cell_type": "markdown",
   "metadata": {},
   "source": [
    "# Module 2 - Programming Assignment\n",
    "\n",
    "## General Directions\n",
    "\n",
    "1. You must follow the Programming Requirements outlined on Canvas.\n",
    "2. The Notebook should be cleanly and fully executed before submission.\n",
    "3. You should change the name of this file to be your JHED id. For example, `jsmith299.ipynb` although Canvas may change it to something else...and that's ok.\n",
    "\n",
    "<div style=\"background: lemonchiffon; margin:20px; padding: 20px;\">\n",
    "    <strong>Important</strong>\n",
    "    <p>\n",
    "        You should always read the entire assignment before beginning your work, so that you know in advance what the requested output will be and can plan your implementation accordingly.\n",
    "    </p>\n",
    "</div>\n",
    "\n",
    "<div style=\"color: white; background: #C83F49; margin:20px; padding: 20px;\">\n",
    "    <strong>Academic Integrity and Copyright</strong>\n",
    "    <p>You are not permitted to consult outside sources (Stackoverflow, YouTube, ChatGPT, etc.) or use \"code assistance\" (Co-Pilot, etc) to complete this assignment. By submitting this assignment for grading, you certify that the submission is 100% your own work, based on course materials, group interactions, instructor guidance. You agree to comply by the requirements set forth in the Syllabus, including, by reference, the JHU KSAS/WSE Graduate Academic Misconduct Policy.</p>\n",
    "    <p>Sharing this assignment either directly (e.g., email, github, homework site) or indirectly (e.g., ChatGPT, machine learning platform) is a violation of the copyright. Additionally, all such sharing is a violation the Graduate Academic Misconduct Policy (facilitating academic dishonesty is itself academic dishonesty), even after you graduate.</p>\n",
    "    <p>If you have questions or if you're unsure about the policy, ask via Canvas Inbox. In this case, being forgiven is <strong>not</strong> easier than getting permission and ignorance is not an exuse.</p>\n",
    "    <p>This assignment is copyright (&copy Johns Hopkins University &amp; Stephyn G. W. Butcher). All rights reserved.</p>\n",
    "</div>"
   ]
  },
  {
   "cell_type": "markdown",
   "metadata": {},
   "source": [
    "# The Problem\n",
    "\n",
    "When we last left our agent in Module 1, it was wandering around a world filled with plains, forests, swamps, hills and mountains. This presupposes a map with known terrain:\n",
    "\n",
    "```\n",
    "......\n",
    "...**.\n",
    "...***\n",
    "..^...\n",
    "..~^..\n",
    "```\n",
    "\n",
    "but what if all we know is that we have some area of interest, that we've reduced to a GPS grid:\n",
    "\n",
    "```\n",
    "??????\n",
    "??????\n",
    "??????\n",
    "??????\n",
    "??????\n",
    "```\n",
    "\n",
    "and the agent has to determine what kind of terrain is to the left, front and right of it?\n",
    "\n",
    "Assuming the agent has a very simple visual sensor that constructs a 4x4 grayscale image for each of the three directions, it might it could see something like this:"
   ]
  },
  {
   "cell_type": "code",
   "execution_count": 2,
   "metadata": {},
   "outputs": [
    {
     "data": {
      "image/png": "[encoded data removed]",
      "text/plain": [
       "<Figure size 2000x600 with 3 Axes>"
      ]
     },
     "metadata": {},
     "output_type": "display_data"
    }
   ],
   "source": [
    "import numpy as np\n",
    "import matplotlib.pyplot as plt\n",
    "import random\n",
    "\n",
    "plain =  [0.0, 0.0, 0.0, 0.0,0.0, 0.0, 0.0, 0.0, 0.0, 0.0, 0.0, 0.0, 1.0, 1.0, 1.0, 1.0]\n",
    "forest = [0.0, 1.0, 0.0, 0.0,1.0, 1.0, 1.0, 0.0, 1.0, 1.0, 1.0, 1.0, 0.0, 1.0, 0.0, 0.0]\n",
    "hills =  [0.0, 0.0, 0.0, 0.0,0.0, 0.0, 1.0, 0.0, 0.0, 1.0, 1.0, 1.0, 1.0, 1.0, 1.0, 1.0]\n",
    "swamp =  [0.0, 0.0, 0.0, 0.0,0.0, 0.0, 0.0, 0.0, 1.0, 0.0, 1.0, 0.0, 1.0, 1.0, 1.0, 1.0]\n",
    "\n",
    "figure = plt.figure(figsize=(20,6))\n",
    "\n",
    "axes = figure.add_subplot(1, 3, 1)\n",
    "pixels = np.array([255 - p * 255 for p in plain], dtype='uint8')\n",
    "pixels = pixels.reshape((4, 4))\n",
    "axes.set_title( \"Left Camera\")\n",
    "axes.imshow(pixels, cmap='gray')\n",
    "\n",
    "axes = figure.add_subplot(1, 3, 2)\n",
    "pixels = np.array([255 - p * 255 for p in forest], dtype='uint8')\n",
    "pixels = pixels.reshape((4, 4))\n",
    "axes.set_title( \"Front Camera\")\n",
    "axes.imshow(pixels, cmap='gray')\n",
    "\n",
    "axes = figure.add_subplot(1, 3, 3)\n",
    "pixels = np.array([255 - p * 255 for p in hills], dtype='uint8')\n",
    "pixels = pixels.reshape((4, 4))\n",
    "axes.set_title( \"Right Camera\")\n",
    "axes.imshow(pixels, cmap='gray')\n",
    "\n",
    "plt.show()\n",
    "plt.close()"
   ]
  },
  {
   "cell_type": "markdown",
   "metadata": {},
   "source": [
    "which would be plains, forest and hills respectively.\n",
    "\n",
    "## The Assignment\n",
    "\n",
    "For this programming assignment your tasks are:\n",
    "\n",
    "1. Write a logistic regression that simply determines if something is a hill or not (two class problem). \n",
    "2. You will also evaluate that logistic regression by generating a *confusion matrix*.\n",
    "\n",
    "For a starting point, refer to the Pseudocode and the Self-Check."
   ]
  },
  {
   "cell_type": "markdown",
   "metadata": {},
   "source": [
    "## Data\n",
    "\n",
    "We have clean examples of the different types of terrain but based on the location, the registration can be a bit off for some of the types and the visual sensor is often noisy.\n",
    "\n",
    "Here are the clean examples with different registrations: "
   ]
  },
  {
   "cell_type": "code",
   "execution_count": 3,
   "metadata": {},
   "outputs": [],
   "source": [
    "clean_data = {\n",
    "    \"plains\": [\n",
    "        [0.0, 0.0, 0.0, 0.0, 0.0, 0.0, 0.0, 0.0, 0.0, 0.0, 0.0, 0.0, 1.0, 1.0, 1.0, 1.0, \"plains\"]\n",
    "    ],\n",
    "    \"forest\": [\n",
    "        [0.0, 1.0, 0.0, 0.0, 1.0, 1.0, 1.0, 0.0, 1.0, 1.0, 1.0, 1.0, 0.0, 1.0, 0.0, 0.0, \"forest\"],\n",
    "        [0.0, 0.0, 1.0, 0.0, 0.0, 1.0, 1.0, 1.0, 1.0, 1.0, 1.0, 1.0, 0.0, 0.0, 1.0, 0.0, \"forest\"],\n",
    "        [1.0, 0.0, 0.0, 0.0, 1.0, 1.0, 0.0, 0.0, 1.0, 1.0, 1.0, 0.0, 1.0, 0.0, 0.0, 0.0, \"forest\"],\n",
    "        [0.0, 0.0, 0.0, 1.0, 0.0, 0.0, 1.0, 1.0, 0.0, 1.0, 1.0, 1.0, 0.0, 0.0, 0.0, 1.0, \"forest\"]\n",
    "    ],\n",
    "    \"hills\": [\n",
    "        [0.0, 0.0, 0.0, 0.0, 0.0, 0.0, 1.0, 0.0, 0.0, 1.0, 1.0, 1.0, 1.0, 1.0, 1.0, 1.0, \"hills\"],\n",
    "        [0.0, 0.0, 0.0, 0.0, 0.0, 1.0, 0.0, 0.0, 1.0, 1.0, 1.0, 0.0, 1.0, 1.0, 1.0, 1.0, \"hills\"],\n",
    "        [0.0, 0.0, 0.0, 0.0, 1.0, 0.0, 0.0, 0.0, 1.0, 1.0, 0.0, 0.0, 1.0, 1.0, 1.0, 0.0, \"hills\"],\n",
    "        [0.0, 0.0, 0.0, 0.0, 0.0, 0.0, 0.0, 1.0, 0.0, 0.0, 1.0, 1.0, 0.0, 1.0, 1.0, 1.0, \"hills\"]\n",
    "    ],\n",
    "    \"swamp\": [\n",
    "        [0.0, 0.0, 0.0, 0.0, 0.0, 0.0, 0.0, 0.0, 1.0, 0.0, 1.0, 0.0, 1.0, 1.0, 1.0, 1.0, \"swamp\"],\n",
    "        [0.0, 0.0, 0.0, 0.0, 0.0, 0.0, 0.0, 0.0, 0.0, 1.0, 0.0, 1.0, 1.0, 1.0, 1.0, 1.0, \"swamp\"]        \n",
    "    ]\n",
    "}"
   ]
  },
  {
   "cell_type": "markdown",
   "metadata": {},
   "source": [
    "Let's create a function that allows us to view any of these:"
   ]
  },
  {
   "cell_type": "code",
   "execution_count": 4,
   "metadata": {},
   "outputs": [],
   "source": [
    "def view_sensor_image(data):\n",
    "    figure = plt.figure(figsize=(4,4))\n",
    "    axes = figure.add_subplot(1, 1, 1)\n",
    "    pixels = np.array([255 - p * 255 for p in data[:-1]], dtype='uint8')\n",
    "    pixels = pixels.reshape((4, 4))\n",
    "    axes.set_title( \"Left Camera:\" + data[-1])\n",
    "    axes.imshow(pixels, cmap='gray')\n",
    "    plt.show()\n",
    "    plt.close()"
   ]
  },
  {
   "cell_type": "markdown",
   "metadata": {},
   "source": [
    "\"I think that I shall never see a thing so lovely as a tree.\""
   ]
  },
  {
   "cell_type": "code",
   "execution_count": 5,
   "metadata": {},
   "outputs": [
    {
     "data": {
      "image/png": "[encoded data removed]",
      "text/plain": [
       "<Figure size 400x400 with 1 Axes>"
      ]
     },
     "metadata": {},
     "output_type": "display_data"
    }
   ],
   "source": [
    "view_sensor_image( clean_data[ \"forest\"][0])"
   ]
  },
  {
   "cell_type": "code",
   "execution_count": 6,
   "metadata": {},
   "outputs": [
    {
     "data": {
      "image/png": "[encoded data removed]",
      "text/plain": [
       "<Figure size 400x400 with 1 Axes>"
      ]
     },
     "metadata": {},
     "output_type": "display_data"
    }
   ],
   "source": [
    "view_sensor_image( clean_data[\"swamp\"][0])"
   ]
  },
  {
   "cell_type": "markdown",
   "metadata": {},
   "source": [
    "The data that comes in, however, is noisy. The values are never exactly 0 and 1. In order to mimic this we need a `blur` function.\n",
    "\n",
    "We will assume that noise is normally distributed. For values that should be 0, the noisy values are distributed $N(0.10, 0.05)$. For values that should be 1, the noisy values are distributed $N(0.9, 0.10)$."
   ]
  },
  {
   "cell_type": "code",
   "execution_count": 7,
   "metadata": {},
   "outputs": [],
   "source": [
    "def blur( data):\n",
    "    def apply_noise( value):\n",
    "        if value < 0.5:\n",
    "            v = random.gauss(0.10, 0.05) # (0.10, 0.05)\n",
    "            if v < 0.0:\n",
    "                return 0.0\n",
    "            if v > 0.75:\n",
    "                return 0.75\n",
    "            return v\n",
    "        else:\n",
    "            v = random.gauss(0.90, 0.10) # (0.90, 0.10)\n",
    "            if v < 0.25:\n",
    "                return 0.25\n",
    "            if v > 1.00:\n",
    "                return 1.00\n",
    "            return v\n",
    "    noisy_readings = [apply_noise( v) for v in data[0:-1]]\n",
    "    return noisy_readings + [data[-1]]"
   ]
  },
  {
   "cell_type": "markdown",
   "metadata": {},
   "source": [
    "We can see how this affects what the agent *actually* sees."
   ]
  },
  {
   "cell_type": "code",
   "execution_count": 8,
   "metadata": {},
   "outputs": [
    {
     "data": {
      "image/png": "[encoded data removed]",
      "text/plain": [
       "<Figure size 400x400 with 1 Axes>"
      ]
     },
     "metadata": {},
     "output_type": "display_data"
    }
   ],
   "source": [
    "view_sensor_image(blur(clean_data[\"hills\"][3]))"
   ]
  },
  {
   "cell_type": "markdown",
   "metadata": {
    "jp-MarkdownHeadingCollapsed": true
   },
   "source": [
    "We need four (4) functions:\n",
    "\n",
    "1. `generate_data`\n",
    "2. `learn_model`\n",
    "3. `apply_model`\n",
    "4. `evaluate`\n",
    "\n",
    "### generate_data\n",
    "\n",
    "`generate_data` has been written for you.\n",
    "\n",
    "* clean_data - the clean versions of the \"bitmaps\" for each of the terrain types\n",
    "* n - the number of samples for \"in the class\" (1) and \"not in the class\" (0) to generate.\n",
    "* label - the label to chose as \"in the class\".\n",
    "\n",
    "For example,\n",
    "\n",
    "`generate_data( clean_data, 100, \"hills\")`\n",
    "\n",
    "generates 100 hills, 100 not hills and has transformed the String labels into 1 and 0, respectively.\n",
    "\n",
    "### `learn_model`\n",
    "\n",
    "`learn_model` is the function that takes in training data and actually learns the logistic regression model. If you're up to it, you can implement a vectorized version using Numpy but you might start with the loopy version first.\n",
    "\n",
    "*In the lecture, I mentioned that you usually should mean normalize your data but you don't need to do that in this case because the data is already on the range 0-1.*\n",
    "\n",
    "For this problem, an `epsilon` of 1e-5 is a good balance between accuracy and time to convergence. Additionally, it'll make sure we all generally get the same results. You should start with an `alpha` of 0.1 and then make it adaptive as described in the Pseudocode.\n",
    "\n",
    "When developing your algorithm, you need to watch the error so you'll set verbose=True to start. You should print it out every iteration and make sure it is declining. You don't need to run it to convergence...you'll know pretty quickly if you're doing the right thing. When you know that your algorithm is working, change your code so that the error is printed out only every 1,000 iterations (it takes a lot of iterations for this problem to converge, depending on your parameter values--start early).\n",
    "\n",
    "`learn_model` returns the List of Thetas.\n",
    "\n",
    "### `apply_model`\n",
    "\n",
    "`apply_model` takes a List of Thetas (the model) and lableled data. You will return a List of Tuples. Each Tuple will contain the actual $y$ value and the predicted y value ($\\hat{y}) as the probability.\n",
    "\n",
    "### `evaluate`\n",
    "\n",
    "Ideally, we should be doing the model evaluation things we learned this module. Instead, we're just going to print out:\n",
    "\n",
    "1. the error rate\n",
    "2. a confusion matrix.\n",
    "\n",
    "The main reason we're not going to do more is that the full 5x2 cross validation, validation curves, learning curves approach to model evaluation would take too long with this algorithm (at least as an assignment). In the real world, you would just have to bite the bullet and do it although the algorithm could be run in parallel and the results combined.\n",
    "\n",
    "We will ask you to do these things on later assignments so be prepared.\n",
    "\n",
    "**As always when working with Lists or Lists of Lists, be very careful when you are modifying these items in place that this is what you want.**"
   ]
  },
  {
   "cell_type": "markdown",
   "metadata": {},
   "source": [
    "<a id=\"calculate_error\"></a>\n",
    "## calculate_error\n",
    "calculate the error of the given thetas and data, **Used by**: [learn_model](#learn_model), \n",
    "\n",
    "* **thetas** - the current thetas: a list of numbers\n",
    "* **data** - the list of tuples, each tuple contains a list of numbers for the xs and an int for the y which is either 0 or 1\n",
    "\n",
    "* J(theta) = -1/n sum of yilog(yihat)+(1-yi)log(1-yihat)\n",
    "* yihat = 1/(1+e ^ (-theta * x)\n",
    "\n",
    "**returns** j the current error"
   ]
  },
  {
   "cell_type": "code",
   "execution_count": 9,
   "metadata": {},
   "outputs": [],
   "source": [
    "import copy\n",
    "\n",
    "def calculate_error(thetas, data):\n",
    "    j = 0\n",
    "    for datum in data:\n",
    "        xs = copy.deepcopy(datum[0])\n",
    "        xs.insert(0 , 1.0)\n",
    "        exponent = -sum(xi * thetai for xi, thetai in zip(xs, thetas))\n",
    "        yihat = 1.0 / (1.0 + np.exp(exponent))\n",
    "        j += datum[1] * np.log(yihat) + (1 - datum[1]) * np.log(1 - yihat)\n",
    "    j /= -len(data)\n",
    "    return j"
   ]
  },
  {
   "cell_type": "code",
   "execution_count": 10,
   "metadata": {},
   "outputs": [
    {
     "name": "stdout",
     "output_type": "stream",
     "text": [
      "1.0792657983097635\n"
     ]
    }
   ],
   "source": [
    "data = [([1.1], 0), ([2.7], 1)]\n",
    "thetas = [0.8, 1.1]\n",
    "print (calculate_error(thetas, data))"
   ]
  },
  {
   "cell_type": "markdown",
   "metadata": {},
   "source": [
    "<a id=\"derivative\"></a>\n",
    "## derivative\n",
    "calculate the derivative given the index j, thetas and data **Used by**: [learn_model](#learn_model), \n",
    "\n",
    "* **j** - the index: an int\n",
    "* **thetas** - the current thetas: a list of numbers\n",
    "* **data** - the list of tuples, each tuple contains a list of numbers for the xs and an int for the y which is either 0 or 1\n",
    "\n",
    "* yihat = 1/(1+e ^ (-theta * x)\n",
    "* the derivative = 1/n( sum of (yihat-yi) * xij\n",
    "\n",
    "**returns** the derivative for current index of theta"
   ]
  },
  {
   "cell_type": "code",
   "execution_count": 11,
   "metadata": {},
   "outputs": [],
   "source": [
    "def derivative(j, thetas, data):\n",
    "    current_sum = 0\n",
    "    for datum in data:\n",
    "        xs = copy.deepcopy(datum[0])\n",
    "        xs.insert(0, 1.0)\n",
    "        exponent = -sum(xi * thetai for xi, thetai in zip(xs, thetas))\n",
    "        yihat = 1.0 / (1.0 + np.exp(exponent))\n",
    "        current_sum += (yihat - datum[1]) * xs[j]\n",
    "    current_sum /= len(data)\n",
    "    return current_sum"
   ]
  },
  {
   "cell_type": "code",
   "execution_count": 12,
   "metadata": {},
   "outputs": [
    {
     "name": "stdout",
     "output_type": "stream",
     "text": [
      "0.42965519136714164\n",
      "0.4545945989386981\n"
     ]
    }
   ],
   "source": [
    "data = [([1.1],0),([2.7],1)]\n",
    "thetas = [0.8,1.1]\n",
    "print (derivative(0,thetas,data))\n",
    "print (derivative(1,thetas,data))"
   ]
  },
  {
   "cell_type": "markdown",
   "metadata": {},
   "source": [
    "---\n",
    "\n",
    "Put your helper functions above here.\n",
    "\n",
    "## Main Functions"
   ]
  },
  {
   "cell_type": "markdown",
   "metadata": {},
   "source": [
    "Use `generate_data` to generate a balanced set of blurred \"hills\" and \"not-hills\" examples to test that the function is working."
   ]
  },
  {
   "cell_type": "code",
   "execution_count": 13,
   "metadata": {},
   "outputs": [],
   "source": [
    "def generate_data( data, n, key_label):\n",
    "    labels = list(data.keys())\n",
    "    labels.remove(key_label)\n",
    "\n",
    "    total_labels = len(labels)\n",
    "    result = []\n",
    "    # create n \"not label\" and code as y=0\n",
    "    count = 1\n",
    "    while count <= n:\n",
    "        label = labels[count % total_labels]\n",
    "        datum = blur(random.choice(data[label]))\n",
    "        xs = datum[0:-1]\n",
    "        result.append((xs, 0))\n",
    "        count += 1\n",
    "\n",
    "    # create n \"label\" and code as y=1\n",
    "    for _ in range(n):\n",
    "        datum = blur(random.choice(data[key_label]))\n",
    "        xs = datum[0:-1]\n",
    "        result.append((xs, 1))\n",
    "    random.shuffle(result)\n",
    "    return result"
   ]
  },
  {
   "cell_type": "code",
   "execution_count": 14,
   "metadata": {},
   "outputs": [
    {
     "name": "stdout",
     "output_type": "stream",
     "text": [
      "([0.22345581549570942, 0.11930766406027925, 0.14681175706720412, 0.09976486355090068, 0.12273486206841497, 0.8541138127494982, 0.16950035782100745, 0.09426061849935677, 0.7549426591271402, 0.8587310072039516, 0.7328972824083931, 0.10118025828039645, 0.821811373900577, 0.7585821259358868, 1.0, 0.9540616214256811], 1)\n",
      "([0.074553346325719, 0.1309435721572566, 0.13507750815844316, 0.0847990598962482, 0.07979038073294961, 0.9629051836245517, 0.20103792756414948, 0.016011597613765402, 1.0, 0.7429851710285774, 1.0, 0.06978377125604643, 0.908794113281959, 0.90070044436676, 1.0, 0.8178864154821921], 1)\n",
      "([0.04658680013504041, 0.12473532736661562, 0.11768879406390276, 0.02748340650997, 0.1261509068149158, 0.12370200038500147, 0.1189026980586827, 0.9684488867028209, 0.1268821190506727, 0.15670609455222367, 1.0, 0.9241955738008393, 0.09301620587680975, 1.0, 0.9763137455848858, 0.8109790291454416], 1)\n",
      "([0.10716186849138057, 0.13042562135023078, 0.1433041398291642, 0.12205957041337916, 0.139961314966041, 0.08572407808718908, 0.11132046043466026, 0.11548594149387695, 0.14595406743751166, 0.03945721972047244, 0.02816735560777682, 0.16742179390096343, 0.8261969901295659, 0.8283567108812293, 1.0, 0.9363836863745186], 0)\n",
      "([0.09867694122750674, 0.10568593820834389, 0.16211716089148043, 0.12175307355687419, 0.11660733430827568, 0.9751817053717462, 0.13533351208081526, 0.09640701130247054, 0.9122909556268968, 0.7272801166622849, 0.7840232045539534, 0.05459224717284426, 0.9151060319457831, 0.8537362196220786, 0.9842602911131277, 0.946490837214033], 1)\n",
      "([0.08637242859274134, 0.0702123436038221, 0.14738116193995524, 0.099525701018128, 0.07899791585537123, 0.1218897381989665, 0.8841534161662391, 0.06940252360802153, 0.11842738755678524, 1.0, 0.8639952842984739, 0.8633651393556022, 0.8120156910310685, 0.7051709287982189, 0.9648666605829902, 0.8496903630467518], 1)\n",
      "([0.8145210401281625, 0.1460230089015693, 0.1660117523125453, 0.06497319890259039, 1.0, 0.9247990811119698, 0.11704883038098306, 0.1406563481909217, 0.8949778525742523, 1.0, 0.9009859971172101, 0.09844087313059766, 0.829307216890335, 0.10201341642355206, 0.08986443308401224, 0.14122756527349103], 0)\n",
      "([0.09835133854280942, 0.09986306716494252, 0.049455784862715194, 0.0970974748376136, 0.12195346421136982, 0.12007185076228905, 0.04886797382557409, 0.7995734025315153, 0.10959891663841737, 0.1444184981156741, 0.9396068675781967, 0.9434868460340027, 0.11169156663063075, 0.8739070803949389, 0.8474777189203124, 0.9764228631376047], 1)\n",
      "([0.10220774106723982, 0.034856790002261995, 0.10492261301907507, 0.09321025626104737, 0.16210362002449716, 0.9962686370702325, 0.11033351566084972, 0.1493390065770841, 0.8875201624895878, 0.933420083754709, 0.9663590328870656, 0.1264876390806215, 1.0, 1.0, 0.8754190315080105, 1.0], 1)\n",
      "([0.04906051209846229, 0.09170070354050476, 0.05289695571519842, 0.14519973008763437, 0.13429592848702987, 0.1501051014590139, 0.048051620961251686, 0.16586892370432804, 0.12689938977407889, 0.8706721783794381, 0.10211135741596085, 0.9228643307585628, 0.8403738788819032, 0.8999548617603043, 0.7919504469624741, 0.7758397091349933], 0)\n",
      "([0.10685884380271783, 0.09760729889341298, 0.10676369072848649, 0.08798915622116597, 0.08884148536997932, 0.13028423132926478, 0.03210675112979981, 0.07551892702837498, 0.7945677289973485, 0.044653090907596726, 0.9317464241242936, 0.1187194339336191, 0.9043922280329986, 0.9467730405688932, 1.0, 0.8984624154236867], 0)\n",
      "([0.016649844616230508, 0.08757374635699926, 0.10425144854971513, 0.07268101888433108, 0.12317052557803079, 0.08351681170887895, 0.12760071918524452, 0.050625549704558515, 1.0, 0.06401564278918537, 0.9427993786830099, 0.11877432220108938, 0.9232781589907828, 1.0, 0.7798576207331264, 1.0], 0)\n",
      "([0.21299041595614648, 0.15355531456479848, 0.14046981800616942, 0.07357324734832729, 0.0946598930016256, 0.13630876683135953, 0.12236527914387592, 0.053438579116193895, 0.1969193539299382, 0.10618581791256904, 0.09949901810836022, 0.0939236753614434, 0.9508221347910388, 0.8659271985021724, 0.879402040076468, 0.9577053120721545], 0)\n",
      "([0.09536608377094068, 0.14853987122460308, 0.14269895352209175, 0.0916381518567278, 0.0, 0.04564263390492679, 0.10327155620947662, 0.8454830993455845, 0.032802738937920725, 0.02916158937277942, 1.0, 0.9701458091658363, 0.07117247954071164, 0.9666948931071158, 0.9734538832274725, 1.0], 1)\n",
      "([0.11488353079716754, 0.027009546851864935, 0.11109220366362095, 0.01189019161938451, 0.13795647375184844, 0.08102747831443807, 0.06153429492489785, 0.06644503029480603, 0.1619849958396526, 0.1614256340131703, 0.05587879098169085, 0.14765956581565837, 0.8798655202839184, 0.7876812787164739, 0.8386874029719465, 1.0], 0)\n",
      "([0.13365469346859202, 0.08779464488208998, 0.04794717889338521, 0.09047647590530447, 0.12286076024007525, 0.6341434324755972, 0.1253188222343272, 0.1445175873480531, 0.8227859607144381, 0.8644678978463637, 0.8517711823143188, 0.0840523885481801, 0.8775472445754053, 0.956642827868491, 0.943130755133348, 0.8606899291072334], 1)\n",
      "([0.98640257177558, 0.03350732675190565, 0.0983324712751688, 0.18745105906951076, 1.0, 0.9691561387907224, 0.05754545435361783, 0.10820258410611683, 0.9731109671059881, 0.8256915042006445, 0.925238511774252, 0.05748661740500241, 0.8932498826356455, 0.03198412872444348, 0.09141125071252956, 0.08713065305803548], 0)\n",
      "([0.0909133657179284, 0.19827345267894128, 0.8811900859012508, 0.11567494904971594, 0.1298959236455791, 0.9360458536175991, 0.83482950132395, 0.9892556858231487, 0.8056233737850814, 0.9654972188055382, 0.6982866684474172, 0.9760453138574643, 0.19624367304300105, 0.2056364630719275, 0.9705428259465394, 0.07850726785499995], 0)\n",
      "([0.966654116779268, 0.07106854035929423, 0.09754750142477371, 0.16988104745557153, 0.8698693846655918, 0.8396660686417455, 0.17953990369679296, 0.07057230060539138, 0.955498532283825, 0.9425911350805488, 0.9202308653609098, 0.03345031038291782, 0.8091660015763714, 0.07233512796417256, 0.12090766450008453, 0.08376621966261352], 0)\n",
      "([0.06847371236432379, 0.09698408980628437, 0.13422590966205816, 0.0908734470723998, 0.007229224539339843, 1.0, 0.16894714697026447, 0.0481083488632186, 0.7833394043961946, 0.8463452669847622, 0.8792330835938261, 0.031192641269186513, 0.8312752161836106, 0.9886141508814081, 1.0, 1.0], 1)\n"
     ]
    }
   ],
   "source": [
    "results = generate_data( clean_data, 10, \"hills\")\n",
    "for result in results:\n",
    "    print(result)"
   ]
  },
  {
   "cell_type": "markdown",
   "metadata": {},
   "source": [
    "<a id=\"learn_model\"></a>\n",
    "## learn_model\n",
    "using the logistic regression model to learn from the given data\n",
    "\n",
    "* **data** - the list of tuples, each tuple contains a list of numbers for the xs and an int for the y which is either 0 or 1\n",
    "* **verbose** - whether we print out the iterations, defaults to false\n",
    "\n",
    "**returns** the list of thetas as the model, it may take a lot of iterations"
   ]
  },
  {
   "cell_type": "code",
   "execution_count": 15,
   "metadata": {},
   "outputs": [],
   "source": [
    "def learn_model(data, verbose=False):\n",
    "    epsilon = 1e-5\n",
    "    alpha = 0.1\n",
    "    thetas = []\n",
    "    iterations = 0\n",
    "    for x in range(0, 17):\n",
    "        thetas.append(random.uniform(-1, 1))\n",
    "    previous_error = 0.0\n",
    "    current_error = calculate_error(thetas, data)\n",
    "    while np.abs(current_error - previous_error) >= epsilon:\n",
    "        new_thetas = []\n",
    "        for j in range(0, len(thetas)):\n",
    "            new_thetas.append(thetas[j] - alpha * derivative(j, thetas, data))\n",
    "        thetas = new_thetas\n",
    "        previous_error = current_error\n",
    "        current_error = calculate_error(thetas, data)\n",
    "        if current_error > previous_error:\n",
    "            alpha /= 10\n",
    "        if verbose and iterations % 1000 == 0:\n",
    "            print(\"current_error: \", current_error)\n",
    "        iterations += 1\n",
    "    return thetas"
   ]
  },
  {
   "cell_type": "code",
   "execution_count": 16,
   "metadata": {},
   "outputs": [
    {
     "name": "stdout",
     "output_type": "stream",
     "text": [
      "current_error:  0.6969560538951989\n",
      "current_error:  0.3780548137061708\n",
      "current_error:  0.28064913812495257\n",
      "current_error:  0.22921718891269538\n",
      "current_error:  0.19668632158038918\n",
      "current_error:  0.17401615025687797\n",
      "current_error:  0.15720029123423218\n",
      "current_error:  0.14416531474511607\n"
     ]
    },
    {
     "data": {
      "text/plain": [
       "[-6.173534220331879,\n",
       " -2.3412531800662006,\n",
       " -5.75832430528393,\n",
       " -5.749166329677695,\n",
       " -3.7896553070113956,\n",
       " 3.1857634242029804,\n",
       " -0.7579056480620112,\n",
       " -0.5855608000407851,\n",
       " 2.320112290884907,\n",
       " -3.3084837355750767,\n",
       " 5.6812635552592665,\n",
       " 6.163027561754522,\n",
       " -3.384348646634038,\n",
       " -3.126404526252253,\n",
       " 5.293475981098927,\n",
       " 3.7351600582803113,\n",
       " -2.3049548856017785]"
      ]
     },
     "execution_count": 16,
     "metadata": {},
     "output_type": "execute_result"
    }
   ],
   "source": [
    "new_data=generate_data(clean_data,100,\"hills\")\n",
    "learn_model(new_data, True)"
   ]
  },
  {
   "cell_type": "markdown",
   "metadata": {},
   "source": [
    "<a id=\"apply model\"></a>\n",
    "## apply_model\n",
    "applying the model to the given testing data\n",
    "\n",
    "* **model** - the list of thetas representing the model\n",
    "* **test_data** - the list of tuples, each tuple contains a list of numbers for the xs and an int for the y which is either 0 or 1\n",
    "* **labeled** - whether we have the corresponding answers, defaults to false, but we actually assume the input is always labeled\n",
    "\n",
    "\n",
    "**returns** a list of (y,yhat) representing the actual result and the prediction"
   ]
  },
  {
   "cell_type": "code",
   "execution_count": 17,
   "metadata": {},
   "outputs": [],
   "source": [
    "def apply_model(model, test_data, labeled=False):\n",
    "    results=[]\n",
    "    for datum in test_data:\n",
    "        xs = copy.deepcopy(datum[0])\n",
    "        xs.insert(0, 1.0)\n",
    "        exponent = -sum(xi * thetai for xi, thetai in zip(xs, model))\n",
    "        yihat = 1.0 / (1.0 + np.exp(exponent))\n",
    "        results.append((datum[1],yihat))\n",
    "    return results"
   ]
  },
  {
   "cell_type": "markdown",
   "metadata": {},
   "source": [
    "<a id=\"evaluate\"></a>\n",
    "## evaluate\n",
    "evaluate the result to see whether the model works\n",
    "\n",
    "* **result** - a list of tuples of (y, yhat) \n",
    "it prints the error rate, the true positive rates, true negatives, false positive and false negatives\n",
    "\n",
    "**returns** a tuple of (true_positive, true_negative, false_positive, false_negative)"
   ]
  },
  {
   "cell_type": "code",
   "execution_count": 18,
   "metadata": {
    "tags": []
   },
   "outputs": [],
   "source": [
    "def evaluate(results):\n",
    "    true_positive = 0\n",
    "    true_negative = 0\n",
    "    false_positive = 0\n",
    "    false_negative = 0\n",
    "    total_count = len(results)\n",
    "    for result in results:\n",
    "        if result[0] == 0 and result[1] - result[0] < 0.5:\n",
    "             true_negative += 1\n",
    "        elif result[0] == 0 and result[1] - result[0] >= 0.5:\n",
    "             false_negative += 1\n",
    "        elif result[0] == 1 and result[0] - result[1] < 0.5:\n",
    "             true_positive += 1\n",
    "        elif result[0] == 1 and result[0] - result[1] >= 0.5:\n",
    "             false_positive += 1\n",
    "    print(\"Error rate: \", (1.0 - (true_positive + true_negative) / total_count)*100, \"%\")\n",
    "    print(\"true positive: \", true_positive)\n",
    "    print(\"true negative: \", true_negative)\n",
    "    print(\"false positive: \", false_positive)\n",
    "    print(\"false negative: \", false_negative)\n",
    "    return (true_positive, true_negative, false_positive, false_negative)"
   ]
  },
  {
   "cell_type": "markdown",
   "metadata": {},
   "source": [
    "## Use your code"
   ]
  },
  {
   "cell_type": "markdown",
   "metadata": {},
   "source": [
    "Use `generate_data` to generate 100 blurred \"hills\" examples balanced with 100 \"non hills\" examples and use this as your test data. Set labeled=True. Print out the first 10 results, one per line."
   ]
  },
  {
   "cell_type": "code",
   "execution_count": 19,
   "metadata": {},
   "outputs": [],
   "source": [
    "train_data = generate_data(clean_data, 100, \"hills\")"
   ]
  },
  {
   "cell_type": "code",
   "execution_count": 20,
   "metadata": {},
   "outputs": [],
   "source": [
    "test_data = generate_data(clean_data, 100, \"hills\")"
   ]
  },
  {
   "cell_type": "markdown",
   "metadata": {},
   "source": [
    "Use `learn_model` to learn a logistic regression model for classifying sensor images as \"hills\" or \"not hills\". Use your `generate_data` function to generate a training set of size 100 for \"hills\". **Set Verbose to True**"
   ]
  },
  {
   "cell_type": "code",
   "execution_count": 21,
   "metadata": {},
   "outputs": [
    {
     "name": "stdout",
     "output_type": "stream",
     "text": [
      "current_error:  0.849357992405084\n",
      "current_error:  0.3804132221200739\n",
      "current_error:  0.27902381308164564\n",
      "current_error:  0.227400810227113\n",
      "current_error:  0.1949954677088243\n",
      "current_error:  0.17240364338853165\n",
      "current_error:  0.15560165257156458\n",
      "current_error:  0.14253462201168068\n",
      "[-6.7083007807976385, -3.3160146135808164, -5.55902608183003, -5.43196936803929, -3.588117629085662, 2.9225791097255636, -0.3870861416155143, -0.4536803729329637, 3.1412216642131345, -2.684201617153749, 5.623286182496228, 5.854523089505659, -3.4958844967973755, -2.4981499368287166, 4.499960386222346, 4.103386375291932, -2.074008896329856]\n"
     ]
    }
   ],
   "source": [
    "model = learn_model( train_data, True)\n",
    "print(model)"
   ]
  },
  {
   "cell_type": "markdown",
   "metadata": {},
   "source": [
    "Apply the model to the test data:"
   ]
  },
  {
   "cell_type": "code",
   "execution_count": 22,
   "metadata": {},
   "outputs": [
    {
     "name": "stdout",
     "output_type": "stream",
     "text": [
      "[(0, 0.03814410325940571), (0, 0.040837933466614434), (1, 0.8198010035791089), (0, 0.0967007683533609), (1, 0.9806491394254746), (0, 0.3084870173769793), (0, 0.22872706336099718), (0, 0.024895279228511705), (0, 0.4424679728504305), (1, 0.6005451479803978), (0, 0.008055605714004906), (1, 0.6756319800094669), (0, 0.013937924305916366), (1, 0.813084042609082), (1, 0.9178446399034196), (0, 0.1925336694357239), (1, 0.9230197853162238), (1, 0.8036563640675514), (1, 0.9179556598557729), (1, 0.795274713782912), (1, 0.9654584292861987), (1, 0.8079791908281938), (1, 0.810931310562916), (0, 0.11262030728588827), (1, 0.8513424008572438), (0, 0.022345321460738043), (0, 0.13521856843402297), (1, 0.7330938850496224), (1, 0.9563939140549769), (1, 0.6170378840618301), (0, 0.2608808775396776), (1, 0.9694845649405485), (0, 0.026872869082908254), (1, 0.9544168307501996), (1, 0.8952434189745033), (0, 0.2282510064750564), (0, 0.0039149733655240064), (0, 0.1959882134090299), (1, 0.9382528451385346), (1, 0.8723106151435489), (1, 0.799506196536319), (1, 0.8636098719813018), (0, 0.06061829069396972), (0, 0.015140382430677298), (0, 0.20299250941523922), (0, 0.1300045381360986), (0, 0.024149079927606842), (0, 0.5129528088289053), (0, 0.1344158276139375), (1, 0.9291821786962355), (0, 0.08049082556894332), (0, 0.312576603179823), (0, 0.017793085393984828), (1, 0.6432378290833796), (0, 0.04582915734805166), (1, 0.8663375700924785), (0, 0.3020573605916135), (1, 0.9563165291673253), (1, 0.9641859714034844), (0, 0.02785447886108564), (1, 0.9023298006452268), (1, 0.8420715777463942), (1, 0.9756978551273345), (0, 0.08775620940011167), (0, 0.016126738806008307), (1, 0.8305538579840891), (0, 0.21548864938243115), (0, 0.012764984533118265), (0, 0.009920583886453066), (1, 0.9122968055011171), (1, 0.9256501767649165), (1, 0.9525806528304515), (1, 0.9186085149605085), (0, 0.012069312047154503), (0, 0.032614226315851036), (1, 0.9393461557774815), (0, 0.09434200097020594), (1, 0.8626138201826302), (1, 0.901732210100104), (0, 0.06961630470823628), (0, 0.07097831417486576), (1, 0.951041098973651), (0, 0.23863132291124492), (0, 0.005444029478091054), (0, 0.020481808318000585), (0, 0.28377638399869826), (0, 0.22068206535200333), (0, 0.026522802486225166), (1, 0.9680516125450508), (1, 0.911735390828642), (1, 0.7165144157516665), (1, 0.8598524254706745), (0, 0.02974607412524753), (0, 0.08505858834896662), (1, 0.9490205061842919), (0, 0.062276273264221256), (1, 0.927347114750395), (0, 0.03714889773774334), (1, 0.5697636124604343), (0, 0.00806710738332313), (0, 0.15429740087859042), (1, 0.6314386374855315), (0, 0.08348723399297749), (1, 0.9201085720932232), (1, 0.9620579304121759), (0, 0.01634572456792208), (1, 0.9693903345497188), (0, 0.06765215877146882), (1, 0.6134089265813262), (0, 0.18837911326949985), (1, 0.8962629310873453), (1, 0.8804219040183915), (0, 0.15254438062731707), (1, 0.9543938773188725), (1, 0.9448188213358201), (0, 0.07950272854084413), (1, 0.773930209760759), (1, 0.9378565469765832), (1, 0.8663336921589628), (0, 0.01139330045616021), (0, 0.025487578895525692), (0, 0.4358886159948876), (1, 0.954285364576896), (1, 0.9005180290606846), (1, 0.934370629935882), (0, 0.18798878545466804), (0, 0.39654735509636113), (0, 0.3238564090767495), (0, 0.27224711831738585), (1, 0.9663704420365336), (0, 0.013548199040334835), (1, 0.9081725882146799), (0, 0.018239291438108738), (1, 0.8747066671977772), (1, 0.9920465254680061), (1, 0.9120375001089761), (0, 0.05697782679827163), (0, 0.056987950107922396), (0, 0.11092982210001076), (0, 0.026904156748133085), (1, 0.7740183100075456), (1, 0.7799585392999174), (1, 0.9716381307497263), (0, 0.24375122809613534), (1, 0.9738820935927712), (0, 0.11138852212514355), (1, 0.9422778409750502), (1, 0.9222971174236368), (1, 0.649330364335546), (1, 0.9487716684222474), (0, 0.05608293871417441), (0, 0.03898603409141167), (1, 0.8396724716745487), (0, 0.20026207117980763), (0, 0.013757016376900008), (0, 0.00987440352349201), (1, 0.9436487384257628), (0, 0.01721693718150186), (1, 0.8232704263576183), (0, 0.04032709313316614), (1, 0.7935715020825378), (0, 0.058688044119053866), (0, 0.05156678388710136), (0, 0.2869505558480336), (1, 0.49714056508766835), (0, 0.09866391489887986), (0, 0.022426713156318043), (0, 0.057392730143086296), (1, 0.9413448749724119), (0, 0.09328563854318396), (1, 0.9606626846106373), (1, 0.8472651032166865), (1, 0.9752535190537568), (1, 0.7699711050548248), (1, 0.9859164224586267), (1, 0.6519986687371675), (0, 0.02714542355034752), (0, 0.24945107177712653), (1, 0.9465977860315508), (0, 0.0028156038075831573), (0, 0.004356722472896852), (1, 0.976645058398842), (0, 0.049982717481402636), (1, 0.9664972217040595), (1, 0.8147972179444747), (0, 0.024835305313734228), (0, 0.07569441792329464), (1, 0.9638312321580986), (1, 0.939195439563442), (1, 0.6909068196021922), (0, 0.06463963933784808), (1, 0.9155760393525779), (1, 0.8547926706577915), (0, 0.07820248691466151), (1, 0.8113632360994877), (1, 0.9541503138167154), (0, 0.007693626683505678), (0, 0.012837939750661649), (0, 0.023803053826575375), (1, 0.9159791749941811)]\n"
     ]
    }
   ],
   "source": [
    "results = apply_model( model, test_data)\n",
    "print(results)"
   ]
  },
  {
   "cell_type": "markdown",
   "metadata": {},
   "source": [
    "Using the results above, print out your error rate (as a percent) and the confusion matrix:"
   ]
  },
  {
   "cell_type": "code",
   "execution_count": 23,
   "metadata": {},
   "outputs": [
    {
     "name": "stdout",
     "output_type": "stream",
     "text": [
      "Error rate:  1.0000000000000009 %\n",
      "true positive:  99\n",
      "true negative:  99\n",
      "false positive:  1\n",
      "false negative:  1\n"
     ]
    },
    {
     "data": {
      "text/plain": [
       "(99, 99, 1, 1)"
      ]
     },
     "execution_count": 23,
     "metadata": {},
     "output_type": "execute_result"
    }
   ],
   "source": [
    "evaluate(results)"
   ]
  },
  {
   "cell_type": "markdown",
   "metadata": {},
   "source": [
    "## Before You Submit...\n",
    "\n",
    "1. Did you provide output exactly as requested?\n",
    "2. Did you re-execute the entire notebook? (\"Restart Kernel and Rull All Cells...\")\n",
    "3. If you did not complete the assignment or had difficulty please explain what gave you the most difficulty in the Markdown cell below.\n",
    "4. Did you change the name of the file to `jhed_id.ipynb`?\n",
    "\n",
    "Do not submit any other files."
   ]
  }
 ],
 "metadata": {
  "kernelspec": {
   "display_name": "Python 3 (ipykernel)",
   "language": "python",
   "name": "python3"
  },
  "language_info": {
   "codemirror_mode": {
    "name": "ipython",
    "version": 3
   },
   "file_extension": ".py",
   "mimetype": "text/x-python",
   "name": "python",
   "nbconvert_exporter": "python",
   "pygments_lexer": "ipython3",
   "version": "3.11.11"
  },
  "toc": {
   "colors": {
    "hover_highlight": "#DAA520",
    "navigate_num": "#000000",
    "navigate_text": "#333333",
    "running_highlight": "#FF0000",
    "selected_highlight": "#FFD700",
    "sidebar_border": "#EEEEEE",
    "wrapper_background": "#FFFFFF"
   },
   "moveMenuLeft": true,
   "nav_menu": {
    "height": "207px",
    "width": "252px"
   },
   "navigate_menu": true,
   "number_sections": true,
   "sideBar": true,
   "threshold": 4,
   "toc_cell": false,
   "toc_section_display": "block",
   "toc_window_display": false,
   "widenNotebook": false
  }
 },
 "nbformat": 4,
 "nbformat_minor": 4
}
