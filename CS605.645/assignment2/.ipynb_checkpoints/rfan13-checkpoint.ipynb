{
 "cells": [
  {
   "cell_type": "code",
   "execution_count": 1,
   "metadata": {},
   "outputs": [],
   "source": [
    "%matplotlib inline"
   ]
  },
  {
   "cell_type": "markdown",
   "metadata": {},
   "source": [
    "# Module 2 - Programming Assignment\n",
    "\n",
    "## General Directions\n",
    "\n",
    "1. You must follow the Programming Requirements outlined on Canvas.\n",
    "2. The Notebook should be cleanly and fully executed before submission.\n",
    "3. You should change the name of this file to be your JHED id. For example, `jsmith299.ipynb` although Canvas may change it to something else...and that's ok.\n",
    "\n",
    "<div style=\"background: lemonchiffon; margin:20px; padding: 20px;\">\n",
    "    <strong>Important</strong>\n",
    "    <p>\n",
    "        You should always read the entire assignment before beginning your work, so that you know in advance what the requested output will be and can plan your implementation accordingly.\n",
    "    </p>\n",
    "</div>\n",
    "\n",
    "<div style=\"color: white; background: #C83F49; margin:20px; padding: 20px;\">\n",
    "    <strong>Academic Integrity and Copyright</strong>\n",
    "    <p>You are not permitted to consult outside sources (Stackoverflow, YouTube, ChatGPT, etc.) or use \"code assistance\" (Co-Pilot, etc) to complete this assignment. By submitting this assignment for grading, you certify that the submission is 100% your own work, based on course materials, group interactions, instructor guidance. You agree to comply by the requirements set forth in the Syllabus, including, by reference, the JHU KSAS/WSE Graduate Academic Misconduct Policy.</p>\n",
    "    <p>Sharing this assignment either directly (e.g., email, github, homework site) or indirectly (e.g., ChatGPT, machine learning platform) is a violation of the copyright. Additionally, all such sharing is a violation the Graduate Academic Misconduct Policy (facilitating academic dishonesty is itself academic dishonesty), even after you graduate.</p>\n",
    "    <p>If you have questions or if you're unsure about the policy, ask via Canvas Inbox. In this case, being forgiven is <strong>not</strong> easier than getting permission and ignorance is not an exuse.</p>\n",
    "    <p>This assignment is copyright (&copy Johns Hopkins University &amp; Stephyn G. W. Butcher). All rights reserved.</p>\n",
    "</div>"
   ]
  },
  {
   "cell_type": "markdown",
   "metadata": {},
   "source": [
    "# The Problem\n",
    "\n",
    "When we last left our agent in Module 1, it was wandering around a world filled with plains, forests, swamps, hills and mountains. This presupposes a map with known terrain:\n",
    "\n",
    "```\n",
    "......\n",
    "...**.\n",
    "...***\n",
    "..^...\n",
    "..~^..\n",
    "```\n",
    "\n",
    "but what if all we know is that we have some area of interest, that we've reduced to a GPS grid:\n",
    "\n",
    "```\n",
    "??????\n",
    "??????\n",
    "??????\n",
    "??????\n",
    "??????\n",
    "```\n",
    "\n",
    "and the agent has to determine what kind of terrain is to the left, front and right of it?\n",
    "\n",
    "Assuming the agent has a very simple visual sensor that constructs a 4x4 grayscale image for each of the three directions, it might it could see something like this:"
   ]
  },
  {
   "cell_type": "code",
   "execution_count": 2,
   "metadata": {},
   "outputs": [
    {
     "data": {
      "image/png": "[encoded data removed]",
      "text/plain": [
       "<Figure size 2000x600 with 3 Axes>"
      ]
     },
     "metadata": {},
     "output_type": "display_data"
    }
   ],
   "source": [
    "import numpy as np\n",
    "import matplotlib.pyplot as plt\n",
    "import random\n",
    "\n",
    "plain =  [0.0, 0.0, 0.0, 0.0,0.0, 0.0, 0.0, 0.0, 0.0, 0.0, 0.0, 0.0, 1.0, 1.0, 1.0, 1.0]\n",
    "forest = [0.0, 1.0, 0.0, 0.0,1.0, 1.0, 1.0, 0.0, 1.0, 1.0, 1.0, 1.0, 0.0, 1.0, 0.0, 0.0]\n",
    "hills =  [0.0, 0.0, 0.0, 0.0,0.0, 0.0, 1.0, 0.0, 0.0, 1.0, 1.0, 1.0, 1.0, 1.0, 1.0, 1.0]\n",
    "swamp =  [0.0, 0.0, 0.0, 0.0,0.0, 0.0, 0.0, 0.0, 1.0, 0.0, 1.0, 0.0, 1.0, 1.0, 1.0, 1.0]\n",
    "\n",
    "figure = plt.figure(figsize=(20,6))\n",
    "\n",
    "axes = figure.add_subplot(1, 3, 1)\n",
    "pixels = np.array([255 - p * 255 for p in plain], dtype='uint8')\n",
    "pixels = pixels.reshape((4, 4))\n",
    "axes.set_title( \"Left Camera\")\n",
    "axes.imshow(pixels, cmap='gray')\n",
    "\n",
    "axes = figure.add_subplot(1, 3, 2)\n",
    "pixels = np.array([255 - p * 255 for p in forest], dtype='uint8')\n",
    "pixels = pixels.reshape((4, 4))\n",
    "axes.set_title( \"Front Camera\")\n",
    "axes.imshow(pixels, cmap='gray')\n",
    "\n",
    "axes = figure.add_subplot(1, 3, 3)\n",
    "pixels = np.array([255 - p * 255 for p in hills], dtype='uint8')\n",
    "pixels = pixels.reshape((4, 4))\n",
    "axes.set_title( \"Right Camera\")\n",
    "axes.imshow(pixels, cmap='gray')\n",
    "\n",
    "plt.show()\n",
    "plt.close()"
   ]
  },
  {
   "cell_type": "markdown",
   "metadata": {},
   "source": [
    "which would be plains, forest and hills respectively.\n",
    "\n",
    "## The Assignment\n",
    "\n",
    "For this programming assignment your tasks are:\n",
    "\n",
    "1. Write a logistic regression that simply determines if something is a hill or not (two class problem). \n",
    "2. You will also evaluate that logistic regression by generating a *confusion matrix*.\n",
    "\n",
    "For a starting point, refer to the Pseudocode and the Self-Check."
   ]
  },
  {
   "cell_type": "markdown",
   "metadata": {},
   "source": [
    "## Data\n",
    "\n",
    "We have clean examples of the different types of terrain but based on the location, the registration can be a bit off for some of the types and the visual sensor is often noisy.\n",
    "\n",
    "Here are the clean examples with different registrations: "
   ]
  },
  {
   "cell_type": "code",
   "execution_count": 3,
   "metadata": {},
   "outputs": [],
   "source": [
    "clean_data = {\n",
    "    \"plains\": [\n",
    "        [0.0, 0.0, 0.0, 0.0, 0.0, 0.0, 0.0, 0.0, 0.0, 0.0, 0.0, 0.0, 1.0, 1.0, 1.0, 1.0, \"plains\"]\n",
    "    ],\n",
    "    \"forest\": [\n",
    "        [0.0, 1.0, 0.0, 0.0, 1.0, 1.0, 1.0, 0.0, 1.0, 1.0, 1.0, 1.0, 0.0, 1.0, 0.0, 0.0, \"forest\"],\n",
    "        [0.0, 0.0, 1.0, 0.0, 0.0, 1.0, 1.0, 1.0, 1.0, 1.0, 1.0, 1.0, 0.0, 0.0, 1.0, 0.0, \"forest\"],\n",
    "        [1.0, 0.0, 0.0, 0.0, 1.0, 1.0, 0.0, 0.0, 1.0, 1.0, 1.0, 0.0, 1.0, 0.0, 0.0, 0.0, \"forest\"],\n",
    "        [0.0, 0.0, 0.0, 1.0, 0.0, 0.0, 1.0, 1.0, 0.0, 1.0, 1.0, 1.0, 0.0, 0.0, 0.0, 1.0, \"forest\"]\n",
    "    ],\n",
    "    \"hills\": [\n",
    "        [0.0, 0.0, 0.0, 0.0, 0.0, 0.0, 1.0, 0.0, 0.0, 1.0, 1.0, 1.0, 1.0, 1.0, 1.0, 1.0, \"hills\"],\n",
    "        [0.0, 0.0, 0.0, 0.0, 0.0, 1.0, 0.0, 0.0, 1.0, 1.0, 1.0, 0.0, 1.0, 1.0, 1.0, 1.0, \"hills\"],\n",
    "        [0.0, 0.0, 0.0, 0.0, 1.0, 0.0, 0.0, 0.0, 1.0, 1.0, 0.0, 0.0, 1.0, 1.0, 1.0, 0.0, \"hills\"],\n",
    "        [0.0, 0.0, 0.0, 0.0, 0.0, 0.0, 0.0, 1.0, 0.0, 0.0, 1.0, 1.0, 0.0, 1.0, 1.0, 1.0, \"hills\"]\n",
    "    ],\n",
    "    \"swamp\": [\n",
    "        [0.0, 0.0, 0.0, 0.0, 0.0, 0.0, 0.0, 0.0, 1.0, 0.0, 1.0, 0.0, 1.0, 1.0, 1.0, 1.0, \"swamp\"],\n",
    "        [0.0, 0.0, 0.0, 0.0, 0.0, 0.0, 0.0, 0.0, 0.0, 1.0, 0.0, 1.0, 1.0, 1.0, 1.0, 1.0, \"swamp\"]        \n",
    "    ]\n",
    "}"
   ]
  },
  {
   "cell_type": "markdown",
   "metadata": {},
   "source": [
    "Let's create a function that allows us to view any of these:"
   ]
  },
  {
   "cell_type": "code",
   "execution_count": 4,
   "metadata": {},
   "outputs": [],
   "source": [
    "def view_sensor_image(data):\n",
    "    figure = plt.figure(figsize=(4,4))\n",
    "    axes = figure.add_subplot(1, 1, 1)\n",
    "    pixels = np.array([255 - p * 255 for p in data[:-1]], dtype='uint8')\n",
    "    pixels = pixels.reshape((4, 4))\n",
    "    axes.set_title( \"Left Camera:\" + data[-1])\n",
    "    axes.imshow(pixels, cmap='gray')\n",
    "    plt.show()\n",
    "    plt.close()"
   ]
  },
  {
   "cell_type": "markdown",
   "metadata": {},
   "source": [
    "\"I think that I shall never see a thing so lovely as a tree.\""
   ]
  },
  {
   "cell_type": "code",
   "execution_count": 5,
   "metadata": {},
   "outputs": [
    {
     "data": {
      "image/png": "[encoded data removed]",
      "text/plain": [
       "<Figure size 400x400 with 1 Axes>"
      ]
     },
     "metadata": {},
     "output_type": "display_data"
    }
   ],
   "source": [
    "view_sensor_image( clean_data[ \"forest\"][0])"
   ]
  },
  {
   "cell_type": "code",
   "execution_count": 6,
   "metadata": {},
   "outputs": [
    {
     "data": {
      "image/png": "[encoded data removed]",
      "text/plain": [
       "<Figure size 400x400 with 1 Axes>"
      ]
     },
     "metadata": {},
     "output_type": "display_data"
    }
   ],
   "source": [
    "view_sensor_image( clean_data[\"swamp\"][0])"
   ]
  },
  {
   "cell_type": "markdown",
   "metadata": {},
   "source": [
    "The data that comes in, however, is noisy. The values are never exactly 0 and 1. In order to mimic this we need a `blur` function.\n",
    "\n",
    "We will assume that noise is normally distributed. For values that should be 0, the noisy values are distributed $N(0.10, 0.05)$. For values that should be 1, the noisy values are distributed $N(0.9, 0.10)$."
   ]
  },
  {
   "cell_type": "code",
   "execution_count": 7,
   "metadata": {},
   "outputs": [],
   "source": [
    "def blur( data):\n",
    "    def apply_noise( value):\n",
    "        if value < 0.5:\n",
    "            v = random.gauss(0.10, 0.05) # (0.10, 0.05)\n",
    "            if v < 0.0:\n",
    "                return 0.0\n",
    "            if v > 0.75:\n",
    "                return 0.75\n",
    "            return v\n",
    "        else:\n",
    "            v = random.gauss(0.90, 0.10) # (0.90, 0.10)\n",
    "            if v < 0.25:\n",
    "                return 0.25\n",
    "            if v > 1.00:\n",
    "                return 1.00\n",
    "            return v\n",
    "    noisy_readings = [apply_noise( v) for v in data[0:-1]]\n",
    "    return noisy_readings + [data[-1]]"
   ]
  },
  {
   "cell_type": "markdown",
   "metadata": {},
   "source": [
    "We can see how this affects what the agent *actually* sees."
   ]
  },
  {
   "cell_type": "code",
   "execution_count": 8,
   "metadata": {},
   "outputs": [
    {
     "data": {
      "image/png": "[encoded data removed]",
      "text/plain": [
       "<Figure size 400x400 with 1 Axes>"
      ]
     },
     "metadata": {},
     "output_type": "display_data"
    }
   ],
   "source": [
    "view_sensor_image(blur(clean_data[\"hills\"][3]))"
   ]
  },
  {
   "cell_type": "markdown",
   "metadata": {
    "jp-MarkdownHeadingCollapsed": true
   },
   "source": [
    "We need four (4) functions:\n",
    "\n",
    "1. `generate_data`\n",
    "2. `learn_model`\n",
    "3. `apply_model`\n",
    "4. `evaluate`\n",
    "\n",
    "### generate_data\n",
    "\n",
    "`generate_data` has been written for you.\n",
    "\n",
    "* clean_data - the clean versions of the \"bitmaps\" for each of the terrain types\n",
    "* n - the number of samples for \"in the class\" (1) and \"not in the class\" (0) to generate.\n",
    "* label - the label to chose as \"in the class\".\n",
    "\n",
    "For example,\n",
    "\n",
    "`generate_data( clean_data, 100, \"hills\")`\n",
    "\n",
    "generates 100 hills, 100 not hills and has transformed the String labels into 1 and 0, respectively.\n",
    "\n",
    "### `learn_model`\n",
    "\n",
    "`learn_model` is the function that takes in training data and actually learns the logistic regression model. If you're up to it, you can implement a vectorized version using Numpy but you might start with the loopy version first.\n",
    "\n",
    "*In the lecture, I mentioned that you usually should mean normalize your data but you don't need to do that in this case because the data is already on the range 0-1.*\n",
    "\n",
    "For this problem, an `epsilon` of 1e-5 is a good balance between accuracy and time to convergence. Additionally, it'll make sure we all generally get the same results. You should start with an `alpha` of 0.1 and then make it adaptive as described in the Pseudocode.\n",
    "\n",
    "When developing your algorithm, you need to watch the error so you'll set verbose=True to start. You should print it out every iteration and make sure it is declining. You don't need to run it to convergence...you'll know pretty quickly if you're doing the right thing. When you know that your algorithm is working, change your code so that the error is printed out only every 1,000 iterations (it takes a lot of iterations for this problem to converge, depending on your parameter values--start early).\n",
    "\n",
    "`learn_model` returns the List of Thetas.\n",
    "\n",
    "### `apply_model`\n",
    "\n",
    "`apply_model` takes a List of Thetas (the model) and lableled data. You will return a List of Tuples. Each Tuple will contain the actual $y$ value and the predicted y value ($\\hat{y}) as the probability.\n",
    "\n",
    "### `evaluate`\n",
    "\n",
    "Ideally, we should be doing the model evaluation things we learned this module. Instead, we're just going to print out:\n",
    "\n",
    "1. the error rate\n",
    "2. a confusion matrix.\n",
    "\n",
    "The main reason we're not going to do more is that the full 5x2 cross validation, validation curves, learning curves approach to model evaluation would take too long with this algorithm (at least as an assignment). In the real world, you would just have to bite the bullet and do it although the algorithm could be run in parallel and the results combined.\n",
    "\n",
    "We will ask you to do these things on later assignments so be prepared.\n",
    "\n",
    "**As always when working with Lists or Lists of Lists, be very careful when you are modifying these items in place that this is what you want.**"
   ]
  },
  {
   "cell_type": "markdown",
   "metadata": {},
   "source": [
    "<a id=\"calculate_error\"></a>\n",
    "## calculate_error\n",
    "calculate the error of the given thetas and data, **Used by**: [learn_model](#learn_model), \n",
    "\n",
    "* **thetas** - the current thetas: a list of numbers\n",
    "* **data** - the list of tuples, each tuple contains a list of numbers for the xs and an int for the y which is either 0 or 1\n",
    "\n",
    "* J(theta) = -1/n sum of yilog(yihat)+(1-yi)log(1-yihat)\n",
    "* yihat = 1/(1+e ^ (-theta * x)\n",
    "\n",
    "**returns** j the current error"
   ]
  },
  {
   "cell_type": "code",
   "execution_count": 9,
   "metadata": {},
   "outputs": [],
   "source": [
    "import copy\n",
    "\n",
    "def calculate_error(thetas, data):\n",
    "    j = 0\n",
    "    for datum in data:\n",
    "        xs = copy.deepcopy(datum[0])\n",
    "        xs.insert(0 , 1.0)\n",
    "        exponent = -sum(xi * thetai for xi, thetai in zip(xs, thetas))\n",
    "        yihat = 1.0 / (1.0 + np.exp(exponent))\n",
    "        j += datum[1] * np.log(yihat) + (1 - datum[1]) * np.log(1 - yihat)\n",
    "    j /= -len(data)\n",
    "    return j"
   ]
  },
  {
   "cell_type": "code",
   "execution_count": 10,
   "metadata": {},
   "outputs": [
    {
     "name": "stdout",
     "output_type": "stream",
     "text": [
      "1.0792657983097635\n"
     ]
    }
   ],
   "source": [
    "data = [([1.1], 0), ([2.7], 1)]\n",
    "thetas = [0.8, 1.1]\n",
    "print (calculate_error(thetas, data))"
   ]
  },
  {
   "cell_type": "markdown",
   "metadata": {},
   "source": [
    "<a id=\"derivative\"></a>\n",
    "## derivative\n",
    "calculate the derivative given the index j, thetas and data **Used by**: [learn_model](#learn_model), \n",
    "\n",
    "* **j** - the index: an int\n",
    "* **thetas** - the current thetas: a list of numbers\n",
    "* **data** - the list of tuples, each tuple contains a list of numbers for the xs and an int for the y which is either 0 or 1\n",
    "\n",
    "* yihat = 1/(1+e ^ (-theta * x)\n",
    "* the derivative = 1/n( sum of (yihat-yi) * xij\n",
    "\n",
    "**returns** the derivative for current index of theta"
   ]
  },
  {
   "cell_type": "code",
   "execution_count": 11,
   "metadata": {},
   "outputs": [],
   "source": [
    "def derivative(j, thetas, data):\n",
    "    current_sum = 0\n",
    "    for datum in data:\n",
    "        xs = copy.deepcopy(datum[0])\n",
    "        xs.insert(0, 1.0)\n",
    "        exponent = -sum(xi * thetai for xi, thetai in zip(xs, thetas))\n",
    "        yihat = 1.0 / (1.0 + np.exp(exponent))\n",
    "        current_sum += (yihat - datum[1]) * xs[j]\n",
    "    current_sum /= len(data)\n",
    "    return current_sum"
   ]
  },
  {
   "cell_type": "code",
   "execution_count": 12,
   "metadata": {},
   "outputs": [
    {
     "name": "stdout",
     "output_type": "stream",
     "text": [
      "0.42965519136714164\n",
      "0.4545945989386981\n"
     ]
    }
   ],
   "source": [
    "data = [([1.1],0),([2.7],1)]\n",
    "thetas = [0.8,1.1]\n",
    "print (derivative(0,thetas,data))\n",
    "print (derivative(1,thetas,data))"
   ]
  },
  {
   "cell_type": "markdown",
   "metadata": {},
   "source": [
    "---\n",
    "\n",
    "Put your helper functions above here.\n",
    "\n",
    "## Main Functions"
   ]
  },
  {
   "cell_type": "markdown",
   "metadata": {},
   "source": [
    "Use `generate_data` to generate a balanced set of blurred \"hills\" and \"not-hills\" examples to test that the function is working."
   ]
  },
  {
   "cell_type": "code",
   "execution_count": 13,
   "metadata": {},
   "outputs": [],
   "source": [
    "def generate_data( data, n, key_label):\n",
    "    labels = list(data.keys())\n",
    "    labels.remove(key_label)\n",
    "\n",
    "    total_labels = len(labels)\n",
    "    result = []\n",
    "    # create n \"not label\" and code as y=0\n",
    "    count = 1\n",
    "    while count <= n:\n",
    "        label = labels[count % total_labels]\n",
    "        datum = blur(random.choice(data[label]))\n",
    "        xs = datum[0:-1]\n",
    "        result.append((xs, 0))\n",
    "        count += 1\n",
    "\n",
    "    # create n \"label\" and code as y=1\n",
    "    for _ in range(n):\n",
    "        datum = blur(random.choice(data[key_label]))\n",
    "        xs = datum[0:-1]\n",
    "        result.append((xs, 1))\n",
    "    random.shuffle(result)\n",
    "    return result"
   ]
  },
  {
   "cell_type": "code",
   "execution_count": 14,
   "metadata": {},
   "outputs": [
    {
     "name": "stdout",
     "output_type": "stream",
     "text": [
      "([0.05503977443830063, 0.11261782155167041, 0.1278947674925959, 0.11555983702383398, 0.05603763315839505, 0.0961135681031143, 0.16929831800312078, 0.8709861696763948, 0.014425667773256018, 0.1038042154891342, 0.945573720947985, 1.0, 0.154677210045531, 0.9008978750474549, 0.8290542902006581, 1.0], 1)\n",
      "([0.12472902246163728, 0.12645289198005394, 0.1987503442656729, 0.09334234481309489, 0.03952223230748956, 0.04322189194559866, 1.0, 0.058312147066719465, 0.04717169658008034, 1.0, 0.9682900387872371, 0.9455868243456246, 0.9510404146506632, 1.0, 0.9429945797006871, 0.9842755594053967], 1)\n",
      "([0.1485044138816576, 0.18772635835017415, 1.0, 0.08913331304642268, 0.040230692763781134, 0.7367415995490731, 0.7141401669167141, 0.8039410275270764, 0.8910548139539204, 0.9664621994024339, 0.8385451553825806, 0.8312927338159677, 0.13665450481658753, 0.10159615137134359, 0.9418902010655666, 0.08794301620336063], 0)\n",
      "([0.06922882698995557, 0.12878704127250276, 0.09126002731464011, 0.05221222332618317, 0.0984527713709006, 0.09662240924863934, 0.12769649384177492, 0.8256701107084176, 0.08841906506629296, 0.06712518498261652, 1.0, 0.9142795479781365, 0.08455078518612248, 1.0, 0.7838099949654862, 1.0], 1)\n",
      "([0.09450666108927604, 0.11516024875945854, 0.029220820940976777, 0.036352803244602425, 0.07746963168085136, 1.0, 0.11587846726030845, 0.17210471934677657, 0.9031672024335845, 0.9684125159289445, 0.8500228017911527, 0.0, 0.8677448240769091, 1.0, 0.9263794873700796, 0.8680974186623857], 1)\n",
      "([0.09002363606548315, 0.09374205670961291, 0.10855770186718895, 0.0891753216722579, 0.09283376741310778, 0.06604939624473125, 0.16172524254025825, 0.020517458946049755, 0.1542005415611063, 0.07664539441299983, 0.02742330183473854, 0.0966753783610665, 0.9771816621287563, 0.955295358835208, 0.9798256138097277, 0.772938374628576], 0)\n",
      "([0.7763881938814597, 0.018861053580392334, 0.06054089938819664, 0.008140247420320046, 0.7788007198576894, 0.9505091745387462, 0.08903691376848002, 0.09318405063601032, 0.942518774108064, 0.9992024683060264, 1.0, 0.14290729650434783, 0.9791207920470641, 0.07016244742200704, 0.15185932855485168, 0.06345774978741131], 0)\n",
      "([1.0, 0.0, 0.07571417660713516, 0.0032455086239694952, 0.8743659339240186, 0.7902332185946485, 0.10559126706298252, 0.16883776451657678, 0.8816475157008313, 0.9145612104567616, 1.0, 0.15436972854892064, 1.0, 0.07711019162635177, 0.0, 0.14109033931525244], 0)\n",
      "([0.062442669423929044, 0.08823148936395629, 0.1255273933073328, 0.1450364074748491, 0.01639614974560666, 0.10683889015366375, 0.14219113949079032, 0.17829967719219386, 0.11209938714472914, 0.8912545526739855, 0.21567259164005417, 0.7768564658582624, 1.0, 0.7800274794069085, 0.9003080240957121, 0.7468706812682787], 0)\n",
      "([0.08683687121099604, 0.13595802378050886, 0.042305307744851306, 0.09356476854877598, 0.012606363606956522, 0.16526508485388025, 0.16306946419570612, 0.0812314450610115, 1.0, 0.0, 0.9813924325542888, 0.15748575184933433, 0.9239271746114467, 0.8221837112034004, 0.969601677399326, 0.9216927078267216], 0)\n",
      "([0.10574008532788376, 0.09143814654043378, 0.039382419261555515, 0.007198960921704495, 0.1610238117720829, 0.106596341815919, 0.1325724055979762, 0.09684392705974738, 0.04072985476783586, 0.8314490108033757, 0.16346717002207214, 0.9117288478048138, 0.9966136152510296, 1.0, 0.8264155839828856, 0.9664004266083561], 0)\n",
      "([0.08074625650044617, 0.1430852810547674, 0.05992598743158685, 0.10162009785866385, 0.04439931621079706, 0.08019687716977038, 0.08343995947845632, 0.7893213863724788, 0.14101821787258284, 0.06883258447269637, 0.8840926684083413, 0.8042819174616519, 0.0594650928479585, 0.9880879742183812, 1.0, 0.9525729888401895], 1)\n",
      "([0.08154379930200718, 0.18370225462028938, 0.12116964037224284, 0.012207845628990771, 0.10102733253653347, 0.14792421181788998, 0.7900289417199333, 0.04364832674931549, 0.04318613928843845, 0.9579578501365421, 0.7734480764783425, 0.9194591600559843, 0.7485880219337337, 0.9386138445741822, 0.9724119053772784, 0.9130420522045195], 1)\n",
      "([0.02550223674169201, 0.17533241595059929, 0.11574145170969052, 0.0008379201476605147, 0.14759840268649926, 0.9957016693129905, 0.18949709817080268, 0.05369331887856695, 0.8528697212680945, 0.9052656699001735, 0.9137359921597138, 0.10656836386709652, 0.814120911869759, 0.8247610702304137, 0.8962547657932782, 0.7638818151626854], 1)\n",
      "([0.15443888111338966, 0.12207233731144354, 0.1426338675534681, 0.06618186608312582, 0.12258570949993543, 0.0, 0.16631617716237265, 0.08465477678303263, 0.07839859008408646, 0.10243774989447416, 0.04821255363025308, 0.07455538046066691, 0.9332282594878409, 0.915604314367747, 0.7835284303673226, 0.8331982605432311], 0)\n",
      "([0.18421053639688517, 0.13657280806982758, 0.1280542832798164, 0.07108377071069207, 0.023226398713996926, 0.9337960151360329, 0.10047706703870138, 0.13774453680364632, 0.8525403925012145, 0.6683886261017863, 0.8958760400866326, 0.09463630463926662, 0.9585708377870065, 0.9808376301911397, 0.8172050562366975, 0.9176438763146901], 1)\n",
      "([0.07323670968306975, 0.016191624371626703, 0.1629001957840306, 0.10166394652375042, 0.11584609107045613, 0.03866171435364736, 0.7775627566907144, 0.0865552289105453, 0.16797976266862502, 0.8337159430906843, 0.7603279224512443, 0.8729526481390526, 0.8082703292941973, 0.9070571601842874, 0.8559358929693258, 0.8252438727755774], 1)\n",
      "([0.07730236693433307, 0.10797158364993645, 0.0797284164849203, 0.12635406708264005, 0.12653648575021148, 0.08504322913472391, 0.9116821077951581, 0.08268101187383325, 0.021629300673145294, 0.911265393168236, 0.9641624280138568, 0.9962752962783288, 0.760680771109648, 0.8389809103229817, 0.8639827423629403, 0.8716113908138149], 1)\n",
      "([0.18023049754020343, 0.09448433670026653, 0.040462130489329784, 0.251178368249822, 0.09302271936585751, 0.13476793752854743, 0.05310272712077568, 0.06421715238016772, 6.013003030355679e-05, 0.02388446524712748, 0.10043753243822094, 0.09243498936014258, 0.9163974765966242, 0.9288018699317495, 0.8610603488980119, 0.9398750806040784], 0)\n",
      "([0.10446743117372778, 1.0, 0.08371035030777967, 0.10118682489894855, 0.9329079058571136, 1.0, 0.8220251056439579, 0.1759602784149913, 0.8820777584944087, 0.9295153186835547, 0.6848288038081065, 0.9248949081314047, 0.0, 1.0, 0.135396650097307, 0.0014510529166053276], 0)\n"
     ]
    }
   ],
   "source": [
    "results = generate_data( clean_data, 10, \"hills\")\n",
    "for result in results:\n",
    "    print(result)"
   ]
  },
  {
   "cell_type": "markdown",
   "metadata": {},
   "source": [
    "<a id=\"learn_model\"></a>\n",
    "## learn_model\n",
    "using the logistic regression model to learn from the given data\n",
    "\n",
    "* **data** - the list of tuples, each tuple contains a list of numbers for the xs and an int for the y which is either 0 or 1\n",
    "* **verbose** - whether we print out the iterations, defaults to false\n",
    "\n",
    "**returns** the list of thetas as the model, it may take a lot of iterations"
   ]
  },
  {
   "cell_type": "code",
   "execution_count": 15,
   "metadata": {},
   "outputs": [],
   "source": [
    "def learn_model(data, verbose=False):\n",
    "    epsilon = 1e-5\n",
    "    alpha = 0.1\n",
    "    thetas = []\n",
    "    iterations = 0\n",
    "    for x in range(0, 17):\n",
    "        thetas.append(random.uniform(-1, 1))\n",
    "    previous_error = 0.0\n",
    "    current_error = calculate_error(thetas, data)\n",
    "    while np.abs(current_error - previous_error) >= epsilon:\n",
    "        new_thetas = []\n",
    "        for j in range(0, len(thetas)):\n",
    "            new_thetas.append(thetas[j] - alpha * derivative(j, thetas, data))\n",
    "        thetas = new_thetas\n",
    "        previous_error = current_error\n",
    "        current_error = calculate_error(thetas, data)\n",
    "        if current_error > previous_error:\n",
    "            alpha /= 10\n",
    "        if verbose and iterations % 1000 == 0:\n",
    "            print(\"current_error: \", current_error)\n",
    "        iterations += 1\n",
    "    return thetas"
   ]
  },
  {
   "cell_type": "code",
   "execution_count": 16,
   "metadata": {},
   "outputs": [],
   "source": [
    "# new_data=generate_data(clean_data,100,\"hills\")\n",
    "# learn_model(new_data, True)"
   ]
  },
  {
   "cell_type": "markdown",
   "metadata": {},
   "source": [
    "<a id=\"apply model\"></a>\n",
    "## apply_model\n",
    "applying the model to the given testing data\n",
    "\n",
    "* **model** - the list of thetas representing the model\n",
    "* **test_data** - the list of tuples, each tuple contains a list of numbers for the xs and an int for the y which is either 0 or 1\n",
    "* **labeled** - whether we have the corresponding answers, defaults to false, but we actually assume the input is always labeled\n",
    "\n",
    "\n",
    "**returns** a list of (y,yhat) representing the actual result and the prediction"
   ]
  },
  {
   "cell_type": "code",
   "execution_count": 17,
   "metadata": {},
   "outputs": [],
   "source": [
    "def apply_model(model, test_data, labeled=False):\n",
    "    results=[]\n",
    "    for datum in test_data:\n",
    "        xs = copy.deepcopy(datum[0])\n",
    "        xs.insert(0, 1.0)\n",
    "        exponent = -sum(xi * thetai for xi, thetai in zip(xs, model))\n",
    "        yihat = 1.0 / (1.0 + np.exp(exponent))\n",
    "        results.append((datum[1],yihat))\n",
    "    return results"
   ]
  },
  {
   "cell_type": "markdown",
   "metadata": {},
   "source": [
    "<a id=\"evaluate\"></a>\n",
    "## evaluate\n",
    "evaluate the result to see whether the model works\n",
    "\n",
    "* **result** - a list of tuples of (y, yhat) \n",
    "it prints the error rate, the true positive rates, true negatives, false positive and false negatives\n",
    "\n",
    "**returns** a tuple of (true_positive, true_negative, false_positive, false_negative)"
   ]
  },
  {
   "cell_type": "code",
   "execution_count": 18,
   "metadata": {
    "tags": []
   },
   "outputs": [],
   "source": [
    "def evaluate(results):\n",
    "    true_positive = 0\n",
    "    true_negative = 0\n",
    "    false_positive = 0\n",
    "    false_negative = 0\n",
    "    total_count = len(results)\n",
    "    for result in results:\n",
    "        if result[0] == 0 and result[1] - result[0] < 0.5:\n",
    "             true_negative += 1\n",
    "        elif result[0] == 0 and result[1] - result[0] >= 0.5:\n",
    "             false_negative += 1\n",
    "        elif result[0] == 1 and result[0] - result[1] < 0.5:\n",
    "             true_positive += 1\n",
    "        elif result[0] == 1 and result[0] - result[1] >= 0.5:\n",
    "             false_positive += 1\n",
    "    print(\"Error rate: \", (1.0 - (true_positive + true_negative) / total_count)*100, \"%\")\n",
    "    print(\"true positive: \", true_positive)\n",
    "    print(\"true negative: \", true_negative)\n",
    "    print(\"false positive: \", false_positive)\n",
    "    print(\"false negative: \", false_negative)\n",
    "    return (true_positive, true_negative, false_positive, false_negative)"
   ]
  },
  {
   "cell_type": "markdown",
   "metadata": {},
   "source": [
    "## Use your code"
   ]
  },
  {
   "cell_type": "markdown",
   "metadata": {},
   "source": [
    "Use `generate_data` to generate 100 blurred \"hills\" examples balanced with 100 \"non hills\" examples and use this as your test data. Set labeled=True. Print out the first 10 results, one per line."
   ]
  },
  {
   "cell_type": "code",
   "execution_count": 19,
   "metadata": {},
   "outputs": [],
   "source": [
    "train_data = generate_data(clean_data, 100, \"hills\")"
   ]
  },
  {
   "cell_type": "code",
   "execution_count": 20,
   "metadata": {},
   "outputs": [],
   "source": [
    "test_data = generate_data(clean_data, 100, \"hills\")"
   ]
  },
  {
   "cell_type": "markdown",
   "metadata": {},
   "source": [
    "Use `learn_model` to learn a logistic regression model for classifying sensor images as \"hills\" or \"not hills\". Use your `generate_data` function to generate a training set of size 100 for \"hills\". **Set Verbose to True**"
   ]
  },
  {
   "cell_type": "code",
   "execution_count": 21,
   "metadata": {},
   "outputs": [
    {
     "name": "stdout",
     "output_type": "stream",
     "text": [
      "current_error:  0.9401980375615794\n",
      "current_error:  0.37066392045317187\n",
      "current_error:  0.25471771133898424\n",
      "current_error:  0.19751842668689526\n",
      "current_error:  0.16316303876469895\n",
      "current_error:  0.14013246774061142\n",
      "current_error:  0.12355441058502663\n",
      "current_error:  0.11100764354009003\n",
      "[-6.93167904348894, -2.9644625659880783, -4.21225710205276, -5.090614443222962, -3.121826244519047, 2.46920902976306, -1.8303598497225277, 0.161530923067658, 2.1203439512373117, -2.786583289742694, 5.850624219186247, 6.243667563271427, -3.4297419735157906, -2.797808592954169, 4.650257798764847, 4.7935623157197025, -2.458518868286153]\n"
     ]
    }
   ],
   "source": [
    "model = learn_model( train_data, True)\n",
    "print(model)"
   ]
  },
  {
   "cell_type": "markdown",
   "metadata": {},
   "source": [
    "Apply the model to the test data:"
   ]
  },
  {
   "cell_type": "code",
   "execution_count": 22,
   "metadata": {},
   "outputs": [
    {
     "name": "stdout",
     "output_type": "stream",
     "text": [
      "[(0, 0.26485084666720193), (0, 0.25401127181776806), (1, 0.9791751795640508), (1, 0.9592653859857397), (0, 0.0322212130916911), (1, 0.5080626604583207), (1, 0.9230205374399725), (1, 0.6453227603726621), (0, 0.046183746464266734), (1, 0.8751241297763281), (0, 0.10960421952163624), (0, 0.4134127455746162), (1, 0.9732824142708049), (1, 0.9217023302972258), (0, 0.04486793299742824), (0, 0.28264780629691844), (1, 0.9704854281082131), (1, 0.9804875231549834), (1, 0.9974501767775189), (0, 0.3382134919047341), (0, 0.3527696369871223), (1, 0.9187675840265234), (1, 0.9472045252606168), (0, 0.008499212799243478), (1, 0.9740781221069217), (1, 0.8100708239535339), (0, 0.017338316670975), (1, 0.9507029342843095), (1, 0.9957783408663334), (0, 0.39140973614474256), (0, 0.04694939462977492), (0, 0.1507325259381509), (0, 0.07622900608306353), (1, 0.917693956068565), (0, 0.017596362777716777), (1, 0.9390040311560622), (1, 0.9665325162632661), (1, 0.6101667419517451), (0, 0.004804392146892957), (0, 0.04776627232916693), (1, 0.8390110383888786), (0, 0.028930780270687476), (0, 0.03820298758253914), (1, 0.4313414164044584), (1, 0.9330439401437006), (0, 0.2585060416889667), (0, 0.4718158140067913), (0, 0.029959086026838062), (0, 0.06355802831097937), (0, 0.34381437777654683), (1, 0.9537404391157969), (1, 0.9368209587633821), (0, 0.23566789238431476), (1, 0.9946816676599971), (0, 0.2543896818077353), (0, 0.01144537584595989), (1, 0.9761662403508059), (0, 0.05376467264934833), (1, 0.9144053219700692), (1, 0.9355095670959491), (0, 0.007880778569689693), (0, 0.009908924018147407), (0, 0.14546779814579813), (0, 0.006811412935102904), (1, 0.9580072683483923), (1, 0.9182396457094304), (0, 0.25146375436266366), (1, 0.9515413364272409), (0, 0.018393999671856176), (0, 0.1578300269624469), (0, 0.2552031672620245), (0, 0.3072123870323095), (0, 0.25478570082722696), (0, 0.015651618441619226), (0, 0.3144621115421081), (0, 0.0037853973285926633), (0, 0.01434388734003715), (0, 0.06645473441786491), (0, 0.009822412451465687), (1, 0.8535997925831299), (1, 0.9367864564684675), (1, 0.942849568884624), (0, 0.15545846278680497), (1, 0.9279669056376291), (1, 0.9955975351800874), (1, 0.9175543772496205), (1, 0.9657860807360855), (1, 0.9798664732940232), (0, 0.4524456365483743), (1, 0.8918363157382138), (0, 0.01683667771308202), (0, 0.00733009850903103), (1, 0.7251359118546052), (0, 0.2274524858949843), (1, 0.8807752854606463), (0, 0.3557709766338118), (0, 0.03213072834880853), (1, 0.841932429915724), (0, 0.03197723248672601), (0, 0.04644554145269732), (0, 0.40038803561462094), (0, 0.013455579444304823), (0, 0.022209121079505317), (0, 0.017827824522688208), (1, 0.9922037384317206), (1, 0.9950138193901097), (1, 0.9797498642026355), (0, 0.02976187353029239), (0, 0.05178793221749722), (0, 0.058192080151600184), (1, 0.4558639192372211), (0, 0.012575422367428165), (1, 0.9331288040024499), (0, 0.1433909426433754), (1, 0.8673831058578111), (1, 0.9800818741003106), (0, 0.1605538053087159), (1, 0.9131795547318002), (1, 0.5724246689279731), (0, 0.017787389418075797), (1, 0.9691966574300662), (1, 0.9404761295550593), (1, 0.9220593600409804), (1, 0.923646304603755), (1, 0.6492231678343494), (0, 0.044539609421811274), (1, 0.6119788067815964), (1, 0.9779296183434624), (1, 0.9576997641323307), (1, 0.7379137173066591), (1, 0.6553481495382965), (1, 0.9198493185228398), (1, 0.7090257734083864), (1, 0.8818231782850949), (1, 0.8475463979999167), (1, 0.9124238270836621), (0, 0.24017646845654636), (0, 0.054732653727740575), (1, 0.9911067541638643), (1, 0.8235245609601733), (0, 0.037343641863039234), (1, 0.8809780097027138), (1, 0.9161541309671567), (1, 0.9420790731697152), (0, 0.04125401714755103), (1, 0.8376347252418477), (0, 0.024309798725297913), (1, 0.8506172360874348), (1, 0.9880542424727088), (0, 0.10862557683545454), (1, 0.9669585653453421), (0, 0.03277242642075338), (0, 0.048259149284079574), (1, 0.9061669933144286), (0, 0.35036959685359675), (0, 0.03272236200492804), (1, 0.8678222433029887), (0, 0.027427374440981082), (0, 0.04171496825374489), (0, 0.2967667833351212), (0, 0.6758108364741438), (1, 0.8513422943368144), (0, 0.1261301192952585), (1, 0.8507335691148564), (0, 0.04825860109073343), (0, 0.014405979896921195), (1, 0.8822825527007756), (1, 0.9403030626102926), (0, 0.29063074686296575), (1, 0.9863396145846342), (0, 0.004665526478727674), (1, 0.9713759197445324), (1, 0.8520490114523135), (0, 0.04406236895406448), (0, 0.027137813696613937), (1, 0.9284248207596212), (1, 0.8974996383653913), (1, 0.7021442919742283), (0, 0.04049883171105327), (0, 0.2973021993315909), (0, 0.010280117422380632), (1, 0.6851320564049148), (1, 0.9079724277450126), (1, 0.9746034137467813), (1, 0.7613031784571668), (0, 0.027859503019760992), (0, 0.1701339705348369), (1, 0.6157223257093871), (0, 0.01794764578605259), (1, 0.9029711576664793), (1, 0.8962970263519937), (1, 0.9535868633217334), (1, 0.9597176434420177), (0, 0.032391988694265655), (1, 0.9721945633516303), (0, 0.506305214610335), (0, 0.033291227613449936), (0, 0.025989000268485486), (0, 0.007101701779355395), (0, 0.28413703153029507)]\n"
     ]
    }
   ],
   "source": [
    "results = apply_model( model, test_data)\n",
    "print(results)"
   ]
  },
  {
   "cell_type": "markdown",
   "metadata": {},
   "source": [
    "Using the results above, print out your error rate (as a percent) and the confusion matrix:"
   ]
  },
  {
   "cell_type": "code",
   "execution_count": 23,
   "metadata": {},
   "outputs": [
    {
     "name": "stdout",
     "output_type": "stream",
     "text": [
      "Error rate:  2.0000000000000018 %\n",
      "true positive:  98\n",
      "true negative:  98\n",
      "false positive:  2\n",
      "false negative:  2\n"
     ]
    },
    {
     "data": {
      "text/plain": [
       "(98, 98, 2, 2)"
      ]
     },
     "execution_count": 23,
     "metadata": {},
     "output_type": "execute_result"
    }
   ],
   "source": [
    "evaluate(results)"
   ]
  },
  {
   "cell_type": "markdown",
   "metadata": {},
   "source": [
    "## Before You Submit...\n",
    "\n",
    "1. Did you provide output exactly as requested?\n",
    "2. Did you re-execute the entire notebook? (\"Restart Kernel and Rull All Cells...\")\n",
    "3. If you did not complete the assignment or had difficulty please explain what gave you the most difficulty in the Markdown cell below.\n",
    "4. Did you change the name of the file to `jhed_id.ipynb`?\n",
    "\n",
    "Do not submit any other files."
   ]
  }
 ],
 "metadata": {
  "kernelspec": {
   "display_name": "Python 3 (ipykernel)",
   "language": "python",
   "name": "python3"
  },
  "language_info": {
   "codemirror_mode": {
    "name": "ipython",
    "version": 3
   },
   "file_extension": ".py",
   "mimetype": "text/x-python",
   "name": "python",
   "nbconvert_exporter": "python",
   "pygments_lexer": "ipython3",
   "version": "3.11.11"
  },
  "toc": {
   "colors": {
    "hover_highlight": "#DAA520",
    "navigate_num": "#000000",
    "navigate_text": "#333333",
    "running_highlight": "#FF0000",
    "selected_highlight": "#FFD700",
    "sidebar_border": "#EEEEEE",
    "wrapper_background": "#FFFFFF"
   },
   "moveMenuLeft": true,
   "nav_menu": {
    "height": "207px",
    "width": "252px"
   },
   "navigate_menu": true,
   "number_sections": true,
   "sideBar": true,
   "threshold": 4,
   "toc_cell": false,
   "toc_section_display": "block",
   "toc_window_display": false,
   "widenNotebook": false
  }
 },
 "nbformat": 4,
 "nbformat_minor": 4
}
