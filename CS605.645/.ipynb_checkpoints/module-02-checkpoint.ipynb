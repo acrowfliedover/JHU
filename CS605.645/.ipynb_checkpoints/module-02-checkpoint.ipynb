{
 "cells": [
  {
   "cell_type": "code",
   "execution_count": 1,
   "metadata": {},
   "outputs": [],
   "source": [
    "%matplotlib inline"
   ]
  },
  {
   "cell_type": "markdown",
   "metadata": {},
   "source": [
    "# Module 2 - Programming Assignment\n",
    "\n",
    "## General Directions\n",
    "\n",
    "1. You must follow the Programming Requirements outlined on Canvas.\n",
    "2. The Notebook should be cleanly and fully executed before submission.\n",
    "3. You should change the name of this file to be your JHED id. For example, `jsmith299.ipynb` although Canvas may change it to something else...and that's ok.\n",
    "\n",
    "<div style=\"background: lemonchiffon; margin:20px; padding: 20px;\">\n",
    "    <strong>Important</strong>\n",
    "    <p>\n",
    "        You should always read the entire assignment before beginning your work, so that you know in advance what the requested output will be and can plan your implementation accordingly.\n",
    "    </p>\n",
    "</div>\n",
    "\n",
    "<div style=\"color: white; background: #C83F49; margin:20px; padding: 20px;\">\n",
    "    <strong>Academic Integrity and Copyright</strong>\n",
    "    <p>You are not permitted to consult outside sources (Stackoverflow, YouTube, ChatGPT, etc.) or use \"code assistance\" (Co-Pilot, etc) to complete this assignment. By submitting this assignment for grading, you certify that the submission is 100% your own work, based on course materials, group interactions, instructor guidance. You agree to comply by the requirements set forth in the Syllabus, including, by reference, the JHU KSAS/WSE Graduate Academic Misconduct Policy.</p>\n",
    "    <p>Sharing this assignment either directly (e.g., email, github, homework site) or indirectly (e.g., ChatGPT, machine learning platform) is a violation of the copyright. Additionally, all such sharing is a violation the Graduate Academic Misconduct Policy (facilitating academic dishonesty is itself academic dishonesty), even after you graduate.</p>\n",
    "    <p>If you have questions or if you're unsure about the policy, ask via Canvas Inbox. In this case, being forgiven is <strong>not</strong> easier than getting permission and ignorance is not an exuse.</p>\n",
    "    <p>This assignment is copyright (&copy Johns Hopkins University &amp; Stephyn G. W. Butcher). All rights reserved.</p>\n",
    "</div>"
   ]
  },
  {
   "cell_type": "markdown",
   "metadata": {},
   "source": [
    "# The Problem\n",
    "\n",
    "When we last left our agent in Module 1, it was wandering around a world filled with plains, forests, swamps, hills and mountains. This presupposes a map with known terrain:\n",
    "\n",
    "```\n",
    "......\n",
    "...**.\n",
    "...***\n",
    "..^...\n",
    "..~^..\n",
    "```\n",
    "\n",
    "but what if all we know is that we have some area of interest, that we've reduced to a GPS grid:\n",
    "\n",
    "```\n",
    "??????\n",
    "??????\n",
    "??????\n",
    "??????\n",
    "??????\n",
    "```\n",
    "\n",
    "and the agent has to determine what kind of terrain is to the left, front and right of it?\n",
    "\n",
    "Assuming the agent has a very simple visual sensor that constructs a 4x4 grayscale image for each of the three directions, it might it could see something like this:"
   ]
  },
  {
   "cell_type": "code",
   "execution_count": 2,
   "metadata": {},
   "outputs": [
    {
     "data": {
      "image/png": "[encoded data removed]",
      "text/plain": [
       "<Figure size 2000x600 with 3 Axes>"
      ]
     },
     "metadata": {},
     "output_type": "display_data"
    }
   ],
   "source": [
    "import numpy as np\n",
    "import matplotlib.pyplot as plt\n",
    "import random\n",
    "\n",
    "plain =  [0.0, 0.0, 0.0, 0.0,0.0, 0.0, 0.0, 0.0, 0.0, 0.0, 0.0, 0.0, 1.0, 1.0, 1.0, 1.0]\n",
    "forest = [0.0, 1.0, 0.0, 0.0,1.0, 1.0, 1.0, 0.0, 1.0, 1.0, 1.0, 1.0, 0.0, 1.0, 0.0, 0.0]\n",
    "hills =  [0.0, 0.0, 0.0, 0.0,0.0, 0.0, 1.0, 0.0, 0.0, 1.0, 1.0, 1.0, 1.0, 1.0, 1.0, 1.0]\n",
    "swamp =  [0.0, 0.0, 0.0, 0.0,0.0, 0.0, 0.0, 0.0, 1.0, 0.0, 1.0, 0.0, 1.0, 1.0, 1.0, 1.0]\n",
    "\n",
    "figure = plt.figure(figsize=(20,6))\n",
    "\n",
    "axes = figure.add_subplot(1, 3, 1)\n",
    "pixels = np.array([255 - p * 255 for p in plain], dtype='uint8')\n",
    "pixels = pixels.reshape((4, 4))\n",
    "axes.set_title( \"Left Camera\")\n",
    "axes.imshow(pixels, cmap='gray')\n",
    "\n",
    "axes = figure.add_subplot(1, 3, 2)\n",
    "pixels = np.array([255 - p * 255 for p in forest], dtype='uint8')\n",
    "pixels = pixels.reshape((4, 4))\n",
    "axes.set_title( \"Front Camera\")\n",
    "axes.imshow(pixels, cmap='gray')\n",
    "\n",
    "axes = figure.add_subplot(1, 3, 3)\n",
    "pixels = np.array([255 - p * 255 for p in hills], dtype='uint8')\n",
    "pixels = pixels.reshape((4, 4))\n",
    "axes.set_title( \"Right Camera\")\n",
    "axes.imshow(pixels, cmap='gray')\n",
    "\n",
    "plt.show()\n",
    "plt.close()"
   ]
  },
  {
   "cell_type": "markdown",
   "metadata": {},
   "source": [
    "which would be plains, forest and hills respectively.\n",
    "\n",
    "## The Assignment\n",
    "\n",
    "For this programming assignment your tasks are:\n",
    "\n",
    "1. Write a logistic regression that simply determines if something is a hill or not (two class problem). \n",
    "2. You will also evaluate that logistic regression by generating a *confusion matrix*.\n",
    "\n",
    "For a starting point, refer to the Pseudocode and the Self-Check."
   ]
  },
  {
   "cell_type": "markdown",
   "metadata": {},
   "source": [
    "## Data\n",
    "\n",
    "We have clean examples of the different types of terrain but based on the location, the registration can be a bit off for some of the types and the visual sensor is often noisy.\n",
    "\n",
    "Here are the clean examples with different registrations: "
   ]
  },
  {
   "cell_type": "code",
   "execution_count": 3,
   "metadata": {},
   "outputs": [],
   "source": [
    "clean_data = {\n",
    "    \"plains\": [\n",
    "        [0.0, 0.0, 0.0, 0.0, 0.0, 0.0, 0.0, 0.0, 0.0, 0.0, 0.0, 0.0, 1.0, 1.0, 1.0, 1.0, \"plains\"]\n",
    "    ],\n",
    "    \"forest\": [\n",
    "        [0.0, 1.0, 0.0, 0.0, 1.0, 1.0, 1.0, 0.0, 1.0, 1.0, 1.0, 1.0, 0.0, 1.0, 0.0, 0.0, \"forest\"],\n",
    "        [0.0, 0.0, 1.0, 0.0, 0.0, 1.0, 1.0, 1.0, 1.0, 1.0, 1.0, 1.0, 0.0, 0.0, 1.0, 0.0, \"forest\"],\n",
    "        [1.0, 0.0, 0.0, 0.0, 1.0, 1.0, 0.0, 0.0, 1.0, 1.0, 1.0, 0.0, 1.0, 0.0, 0.0, 0.0, \"forest\"],\n",
    "        [0.0, 0.0, 0.0, 1.0, 0.0, 0.0, 1.0, 1.0, 0.0, 1.0, 1.0, 1.0, 0.0, 0.0, 0.0, 1.0, \"forest\"]\n",
    "    ],\n",
    "    \"hills\": [\n",
    "        [0.0, 0.0, 0.0, 0.0, 0.0, 0.0, 1.0, 0.0, 0.0, 1.0, 1.0, 1.0, 1.0, 1.0, 1.0, 1.0, \"hills\"],\n",
    "        [0.0, 0.0, 0.0, 0.0, 0.0, 1.0, 0.0, 0.0, 1.0, 1.0, 1.0, 0.0, 1.0, 1.0, 1.0, 1.0, \"hills\"],\n",
    "        [0.0, 0.0, 0.0, 0.0, 1.0, 0.0, 0.0, 0.0, 1.0, 1.0, 0.0, 0.0, 1.0, 1.0, 1.0, 0.0, \"hills\"],\n",
    "        [0.0, 0.0, 0.0, 0.0, 0.0, 0.0, 0.0, 1.0, 0.0, 0.0, 1.0, 1.0, 0.0, 1.0, 1.0, 1.0, \"hills\"]\n",
    "    ],\n",
    "    \"swamp\": [\n",
    "        [0.0, 0.0, 0.0, 0.0, 0.0, 0.0, 0.0, 0.0, 1.0, 0.0, 1.0, 0.0, 1.0, 1.0, 1.0, 1.0, \"swamp\"],\n",
    "        [0.0, 0.0, 0.0, 0.0, 0.0, 0.0, 0.0, 0.0, 0.0, 1.0, 0.0, 1.0, 1.0, 1.0, 1.0, 1.0, \"swamp\"]        \n",
    "    ]\n",
    "}"
   ]
  },
  {
   "cell_type": "markdown",
   "metadata": {},
   "source": [
    "Let's create a function that allows us to view any of these:"
   ]
  },
  {
   "cell_type": "code",
   "execution_count": 4,
   "metadata": {},
   "outputs": [],
   "source": [
    "def view_sensor_image(data):\n",
    "    figure = plt.figure(figsize=(4,4))\n",
    "    axes = figure.add_subplot(1, 1, 1)\n",
    "    pixels = np.array([255 - p * 255 for p in data[:-1]], dtype='uint8')\n",
    "    pixels = pixels.reshape((4, 4))\n",
    "    axes.set_title( \"Left Camera:\" + data[-1])\n",
    "    axes.imshow(pixels, cmap='gray')\n",
    "    plt.show()\n",
    "    plt.close()"
   ]
  },
  {
   "cell_type": "markdown",
   "metadata": {},
   "source": [
    "\"I think that I shall never see a thing so lovely as a tree.\""
   ]
  },
  {
   "cell_type": "code",
   "execution_count": 5,
   "metadata": {},
   "outputs": [
    {
     "data": {
      "image/png": "[encoded data removed]",
      "text/plain": [
       "<Figure size 400x400 with 1 Axes>"
      ]
     },
     "metadata": {},
     "output_type": "display_data"
    }
   ],
   "source": [
    "view_sensor_image( clean_data[ \"forest\"][0])"
   ]
  },
  {
   "cell_type": "code",
   "execution_count": 6,
   "metadata": {},
   "outputs": [
    {
     "data": {
      "image/png": "[encoded data removed]",
      "text/plain": [
       "<Figure size 400x400 with 1 Axes>"
      ]
     },
     "metadata": {},
     "output_type": "display_data"
    }
   ],
   "source": [
    "view_sensor_image( clean_data[\"swamp\"][0])"
   ]
  },
  {
   "cell_type": "markdown",
   "metadata": {},
   "source": [
    "The data that comes in, however, is noisy. The values are never exactly 0 and 1. In order to mimic this we need a `blur` function.\n",
    "\n",
    "We will assume that noise is normally distributed. For values that should be 0, the noisy values are distributed $N(0.10, 0.05)$. For values that should be 1, the noisy values are distributed $N(0.9, 0.10)$."
   ]
  },
  {
   "cell_type": "code",
   "execution_count": 7,
   "metadata": {},
   "outputs": [],
   "source": [
    "def blur( data):\n",
    "    def apply_noise( value):\n",
    "        if value < 0.5:\n",
    "            v = random.gauss(0.30, 0.07) # (0.10, 0.05)\n",
    "            if v < 0.0:\n",
    "                return 0.0\n",
    "            if v > 0.75:\n",
    "                return 0.75\n",
    "            return v\n",
    "        else:\n",
    "            v = random.gauss(0.70, 0.07) # (0.90, 0.10)\n",
    "            if v < 0.25:\n",
    "                return 0.25\n",
    "            if v > 1.00:\n",
    "                return 1.00\n",
    "            return v\n",
    "    noisy_readings = [apply_noise( v) for v in data[0:-1]]\n",
    "    return noisy_readings + [data[-1]]"
   ]
  },
  {
   "cell_type": "markdown",
   "metadata": {},
   "source": [
    "We can see how this affects what the agent *actually* sees."
   ]
  },
  {
   "cell_type": "code",
   "execution_count": 8,
   "metadata": {},
   "outputs": [
    {
     "data": {
      "image/png": "[encoded data removed]",
      "text/plain": [
       "<Figure size 400x400 with 1 Axes>"
      ]
     },
     "metadata": {},
     "output_type": "display_data"
    }
   ],
   "source": [
    "view_sensor_image(blur(clean_data[\"swamp\"][0]))"
   ]
  },
  {
   "cell_type": "markdown",
   "metadata": {},
   "source": [
    "We need four (4) functions:\n",
    "\n",
    "1. `generate_data`\n",
    "2. `learn_model`\n",
    "3. `apply_model`\n",
    "4. `evaluate`\n",
    "\n",
    "### generate_data\n",
    "\n",
    "`generate_data` has been written for you.\n",
    "\n",
    "* clean_data - the clean versions of the \"bitmaps\" for each of the terrain types\n",
    "* n - the number of samples for \"in the class\" (1) and \"not in the class\" (0) to generate.\n",
    "* label - the label to chose as \"in the class\".\n",
    "\n",
    "For example,\n",
    "\n",
    "`generate_data( clean_data, 100, \"hills\")`\n",
    "\n",
    "generates 100 hills, 100 not hills and has transformed the String labels into 1 and 0, respectively.\n",
    "\n",
    "### `learn_model`\n",
    "\n",
    "`learn_model` is the function that takes in training data and actually learns the logistic regression model. If you're up to it, you can implement a vectorized version using Numpy but you might start with the loopy version first.\n",
    "\n",
    "*In the lecture, I mentioned that you usually should mean normalize your data but you don't need to do that in this case because the data is already on the range 0-1.*\n",
    "\n",
    "For this problem, an `epsilon` of 1e-5 is a good balance between accuracy and time to convergence. Additionally, it'll make sure we all generally get the same results. You should start with an `alpha` of 0.1 and then make it adaptive as described in the Pseudocode.\n",
    "\n",
    "When developing your algorithm, you need to watch the error so you'll set verbose=True to start. You should print it out every iteration and make sure it is declining. You don't need to run it to convergence...you'll know pretty quickly if you're doing the right thing. When you know that your algorithm is working, change your code so that the error is printed out only every 1,000 iterations (it takes a lot of iterations for this problem to converge, depending on your parameter values--start early).\n",
    "\n",
    "`learn_model` returns the List of Thetas.\n",
    "\n",
    "### `apply_model`\n",
    "\n",
    "`apply_model` takes a List of Thetas (the model) and lableled data. You will return a List of Tuples. Each Tuple will contain the actual $y$ value and the predicted y value ($\\hat{y}) as the probability.\n",
    "\n",
    "### `evaluate`\n",
    "\n",
    "Ideally, we should be doing the model evaluation things we learned this module. Instead, we're just going to print out:\n",
    "\n",
    "1. the error rate\n",
    "2. a confusion matrix.\n",
    "\n",
    "The main reason we're not going to do more is that the full 5x2 cross validation, validation curves, learning curves approach to model evaluation would take too long with this algorithm (at least as an assignment). In the real world, you would just have to bite the bullet and do it although the algorithm could be run in parallel and the results combined.\n",
    "\n",
    "We will ask you to do these things on later assignments so be prepared.\n",
    "\n",
    "**As always when working with Lists or Lists of Lists, be very careful when you are modifying these items in place that this is what you want.**"
   ]
  },
  {
   "cell_type": "markdown",
   "metadata": {},
   "source": [
    "---\n",
    "\n",
    "Put your helper functions above here.\n",
    "\n",
    "## Main Functions"
   ]
  },
  {
   "cell_type": "markdown",
   "metadata": {},
   "source": [
    "Use `generate_data` to generate a balanced set of blurred \"hills\" and \"not-hills\" examples to test that the function is working."
   ]
  },
  {
   "cell_type": "code",
   "execution_count": 9,
   "metadata": {},
   "outputs": [],
   "source": [
    "def generate_data( data, n, key_label):\n",
    "    labels = list(data.keys())\n",
    "    labels.remove(key_label)\n",
    "\n",
    "    total_labels = len(labels)\n",
    "    result = []\n",
    "    # create n \"not label\" and code as y=0\n",
    "    count = 1\n",
    "    while count <= n:\n",
    "        label = labels[count % total_labels]\n",
    "        datum = blur(random.choice(data[label]))\n",
    "        xs = datum[0:-1]\n",
    "        result.append((xs, 0))\n",
    "        count += 1\n",
    "\n",
    "    # create n \"label\" and code as y=1\n",
    "    for _ in range(n):\n",
    "        datum = blur(random.choice(data[key_label]))\n",
    "        xs = datum[0:-1]\n",
    "        result.append((xs, 1))\n",
    "    random.shuffle(result)\n",
    "    return result"
   ]
  },
  {
   "cell_type": "code",
   "execution_count": 10,
   "metadata": {},
   "outputs": [
    {
     "name": "stdout",
     "output_type": "stream",
     "text": [
      "([0.28584731122768375, 0.46419115982440806, 0.225715815647843, 0.25068929176925675, 0.35322513797010296, 0.19670210065197502, 0.2572338329315974, 0.6714801991752406, 0.3370192053412535, 0.22156865544683085, 0.6890838904763223, 0.883919378678476, 0.2344014584653359, 0.7119510678192835, 0.725605933112053, 0.7121484933435677], 1)\n",
      "([0.28157770940448235, 0.220675177392, 0.17897053243709815, 0.29617917790602166, 0.32676073530853944, 0.2656461472316799, 0.3599913198779646, 0.32599927327387473, 0.2941878129831462, 0.3511653566818328, 0.25271963413072884, 0.3685415630038752, 0.5555853175525581, 0.6707833058868156, 0.7982450843561224, 0.7433243606644371], 0)\n",
      "([0.2543533646560476, 0.2812947770922457, 0.2486304604722075, 0.3034714294211798, 0.2762539212492674, 0.33438939249963057, 0.12433101996393478, 0.29455642491717615, 0.5864142883150967, 0.31487313062905975, 0.8387543208732184, 0.3978576498241959, 0.7653481533596308, 0.6984901742920943, 0.5985087811737825, 0.6815788994903441], 0)\n",
      "([0.3119594023560359, 0.2891399775205692, 0.29406051029645275, 0.30369233550352537, 0.4695813470854458, 0.3306885627609086, 0.25448597520581423, 0.2956259823972633, 0.3231052636560155, 0.8769002142374624, 0.32677075413499246, 0.784131384132596, 0.6405684183358253, 0.6255299326999295, 0.7509842145529828, 0.6576620377531246], 0)\n",
      "([0.24403416432376598, 0.23592214305194315, 0.35783605276772906, 0.2008069063041485, 0.42612413515514314, 0.7102540779061387, 0.40806964642706955, 0.3002236146690072, 0.7136127314724765, 0.6904044638309936, 0.6414862077219948, 0.3609922793445996, 0.5845756890454672, 0.7929423833695342, 0.7342377584486365, 0.7921366524082165], 1)\n",
      "([0.33854331271721005, 0.20976748900755424, 0.3614661443033233, 0.3247510735346377, 0.29535514083985576, 0.2823885876950769, 0.31701636196410504, 0.4218592889257368, 0.2976248059941233, 0.3016302763628492, 0.239106561166563, 0.285518322417366, 0.6068807410046353, 0.7320953844342547, 0.6539139766120918, 0.6861291680936272], 0)\n",
      "([0.45721220870356416, 0.16695130848973144, 0.678885466751129, 0.29751856443575636, 0.1265260126074393, 0.6898969112665624, 0.6832741363965217, 0.7998472598244777, 0.6292555804189959, 0.6968424394732433, 0.7336194628257368, 0.6662501872303741, 0.15837248266710952, 0.4088847040808352, 0.650180955630828, 0.23710095726531766], 0)\n",
      "([0.3877851641719804, 0.20794817341494373, 0.45004636252952473, 0.2868576768912645, 0.31325681870006694, 0.6408352810639132, 0.2042244436346688, 0.30034429558240133, 0.7051678588529336, 0.5756682896549917, 0.6848830054175421, 0.47096367824824814, 0.7987941969747578, 0.7404637413998624, 0.800368949628075, 0.7442027926593275], 1)\n",
      "([0.36299616607997875, 0.272104653346408, 0.09199831339449299, 0.2690908388603962, 0.34250870287944013, 0.23824558405883176, 0.34730174387428225, 0.3975861874076798, 0.756919188917275, 0.3389922918532677, 0.6345401269134707, 0.3740447049368394, 0.7744340295839275, 0.6697200058126497, 0.755733902189783, 0.7220988192009775], 0)\n",
      "([0.22934861651828897, 0.24319631579472362, 0.32762725577963425, 0.16407016233389873, 0.4660476520078975, 0.335236478302233, 0.24013777124223215, 0.8159998145679298, 0.29495072234302355, 0.23955581765336528, 0.7213915623536002, 0.6405408738274934, 0.24852877584861854, 0.7300658495474949, 0.7462623500581123, 0.6071151642701698], 1)\n",
      "([0.6762621801633066, 0.45982070033063926, 0.2550612098887188, 0.4087049585514632, 0.7717372126882126, 0.7340665951851797, 0.23333597031518635, 0.26792518847754304, 0.7964328808819179, 0.7522486606518323, 0.7933502928207234, 0.2721292984414583, 0.7168620415524335, 0.26218271776498503, 0.41009269083624644, 0.3601777863709368], 0)\n",
      "([0.25042752532769513, 0.2942927279505645, 0.15831131586274874, 0.2925921840435618, 0.642520871775518, 0.3517741328570955, 0.3005071649551575, 0.20565260077681582, 0.8261317375668139, 0.727440151237716, 0.2985195976804054, 0.3754788482136436, 0.7263517465353658, 0.648944497771773, 0.7148394849700751, 0.3165097639824658], 1)\n",
      "([0.38416270141551045, 0.3413101348402715, 0.297293282919129, 0.2095374982257861, 0.3759391845469036, 0.4103079958614035, 0.2192211974296912, 0.31447739346534276, 0.2997921840569672, 0.39095735836202977, 0.2692202080441177, 0.3834499713758001, 0.7373825736187322, 0.6860923473811261, 0.7010725414565363, 0.8405157901647449], 0)\n",
      "([0.66972140899578, 0.2877212018129828, 0.24124564947468535, 0.383850667298349, 0.8204626061249826, 0.6353353708592068, 0.260266073625125, 0.3732683824811279, 0.5595055303241443, 0.7291729015465989, 0.6956742102036448, 0.2813144577332914, 0.7356558868719498, 0.38191102583762765, 0.3084023285255244, 0.35569470222347205], 0)\n",
      "([0.27616970253405937, 0.4104896921769998, 0.29216623006161707, 0.356390614549185, 0.1972990931515922, 0.23077672112079034, 0.6832626423991924, 0.3669345208695721, 0.26478983058043776, 0.7514752456146969, 0.8336695445330118, 0.7141350019853228, 0.5606054142831274, 0.6590488236324105, 0.7177394331391679, 0.6720430167227549], 1)\n",
      "([0.3649841200361169, 0.19940266981198862, 0.26022378890400616, 0.31665581233091245, 0.3446644372168039, 0.33685660050122496, 0.20603550546396399, 0.5700430047645388, 0.2833514101507658, 0.26913733677634, 0.8108601568785295, 0.544758762049596, 0.22762543594710333, 0.6003776441785991, 0.8438741865006131, 0.6672891200411222], 1)\n",
      "([0.30464826487735286, 0.2748201989712618, 0.2273313942265235, 0.3694241482317826, 0.6348061305925494, 0.32097361379736894, 0.2933853110032542, 0.33513940942427384, 0.6432619819545475, 0.6927588524554041, 0.25633698256893317, 0.29439558674902433, 0.7109440918656414, 0.6560667503888342, 0.5887447798892936, 0.2331415232077519], 1)\n",
      "([0.366799956415386, 0.29532649632523256, 0.34764467469710736, 0.27430899418399013, 0.6965166993568436, 0.36700410664880234, 0.18589379120858845, 0.2174591843949013, 0.7136069644189645, 0.7191744917061371, 0.22062349844253204, 0.3359418811649601, 0.7034595349569143, 0.5938316593171098, 0.7114551857594065, 0.384080144036399], 1)\n",
      "([0.25611074781191934, 0.27230361159259375, 0.22735416693850924, 0.25452441065735754, 0.3059706901148496, 0.1782155424825659, 0.691933073057661, 0.23814331187334375, 0.31901496738743684, 0.734022619193229, 0.6970335113036616, 0.63372173897694, 0.6361194305355197, 0.6660876909779379, 0.6572879552486142, 0.7331930895040502], 1)\n",
      "([0.2191397900208471, 0.6675051102862144, 0.17526126401815473, 0.2765795578668538, 0.7693808098063082, 0.6214269084043851, 0.67324902789647, 0.3266445081720732, 0.6629867457581089, 0.6828267527490561, 0.7259815590178726, 0.7189963760773703, 0.4523825745453615, 0.7982647335018456, 0.3530507794436586, 0.39717527118894336], 0)\n"
     ]
    }
   ],
   "source": [
    "results = generate_data( clean_data, 10, \"hills\")\n",
    "for result in results:\n",
    "    print(result)"
   ]
  },
  {
   "cell_type": "code",
   "execution_count": 11,
   "metadata": {},
   "outputs": [],
   "source": [
    "def learn_model(data, verbose=False):\n",
    "    pass"
   ]
  },
  {
   "cell_type": "code",
   "execution_count": 12,
   "metadata": {},
   "outputs": [],
   "source": [
    "def apply_model(model, test_data, labeled=False):\n",
    "    pass"
   ]
  },
  {
   "cell_type": "code",
   "execution_count": 13,
   "metadata": {
    "tags": []
   },
   "outputs": [],
   "source": [
    "def evaluate(results):\n",
    "    pass"
   ]
  },
  {
   "cell_type": "markdown",
   "metadata": {},
   "source": [
    "## Use your code"
   ]
  },
  {
   "cell_type": "markdown",
   "metadata": {},
   "source": [
    "Use `generate_data` to generate 100 blurred \"hills\" examples balanced with 100 \"non hills\" examples and use this as your test data. Set labeled=True. Print out the first 10 results, one per line."
   ]
  },
  {
   "cell_type": "code",
   "execution_count": 14,
   "metadata": {},
   "outputs": [],
   "source": [
    "train_data = generate_data(clean_data, 100, \"hills\")"
   ]
  },
  {
   "cell_type": "code",
   "execution_count": 15,
   "metadata": {},
   "outputs": [],
   "source": [
    "test_data = generate_data(clean_data, 100, \"hills\")"
   ]
  },
  {
   "cell_type": "markdown",
   "metadata": {},
   "source": [
    "Use `learn_model` to learn a logistic regression model for classifying sensor images as \"hills\" or \"not hills\". Use your `generate_data` function to generate a training set of size 100 for \"hills\". **Set Verbose to True**"
   ]
  },
  {
   "cell_type": "code",
   "execution_count": 16,
   "metadata": {},
   "outputs": [],
   "source": [
    "model = learn_model( train_data, True)"
   ]
  },
  {
   "cell_type": "markdown",
   "metadata": {},
   "source": [
    "Apply the model to the test data:"
   ]
  },
  {
   "cell_type": "code",
   "execution_count": 17,
   "metadata": {},
   "outputs": [],
   "source": [
    "results = apply_model( model, test_data)"
   ]
  },
  {
   "cell_type": "markdown",
   "metadata": {},
   "source": [
    "Using the results above, print out your error rate (as a percent) and the confusion matrix:"
   ]
  },
  {
   "cell_type": "code",
   "execution_count": 18,
   "metadata": {},
   "outputs": [],
   "source": [
    "evaluate(results)"
   ]
  },
  {
   "cell_type": "markdown",
   "metadata": {},
   "source": [
    "## Before You Submit...\n",
    "\n",
    "1. Did you provide output exactly as requested?\n",
    "2. Did you re-execute the entire notebook? (\"Restart Kernel and Rull All Cells...\")\n",
    "3. If you did not complete the assignment or had difficulty please explain what gave you the most difficulty in the Markdown cell below.\n",
    "4. Did you change the name of the file to `jhed_id.ipynb`?\n",
    "\n",
    "Do not submit any other files."
   ]
  }
 ],
 "metadata": {
  "kernelspec": {
   "display_name": "Python 3 (ipykernel)",
   "language": "python",
   "name": "python3"
  },
  "language_info": {
   "codemirror_mode": {
    "name": "ipython",
    "version": 3
   },
   "file_extension": ".py",
   "mimetype": "text/x-python",
   "name": "python",
   "nbconvert_exporter": "python",
   "pygments_lexer": "ipython3",
   "version": "3.11.7"
  },
  "toc": {
   "colors": {
    "hover_highlight": "#DAA520",
    "navigate_num": "#000000",
    "navigate_text": "#333333",
    "running_highlight": "#FF0000",
    "selected_highlight": "#FFD700",
    "sidebar_border": "#EEEEEE",
    "wrapper_background": "#FFFFFF"
   },
   "moveMenuLeft": true,
   "nav_menu": {
    "height": "207px",
    "width": "252px"
   },
   "navigate_menu": true,
   "number_sections": true,
   "sideBar": true,
   "threshold": 4,
   "toc_cell": false,
   "toc_section_display": "block",
   "toc_window_display": false,
   "widenNotebook": false
  }
 },
 "nbformat": 4,
 "nbformat_minor": 4
}
