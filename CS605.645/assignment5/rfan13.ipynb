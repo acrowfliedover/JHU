{
 "cells": [
  {
   "cell_type": "markdown",
   "metadata": {},
   "source": [
    "# Module 5 - Programming Assignment\n",
    "\n",
    "## Directions\n",
    "\n",
    "1. Change the name of this file to be your JHED id as in `jsmith299.ipynb`. Because sure you use your JHED ID (it's made out of your name and not your student id which is just letters and numbers).\n",
    "2. Make sure the notebook you submit is cleanly and fully executed. I do not grade unexecuted notebooks.\n",
    "3. Submit your notebook back in Blackboard where you downloaded this file.\n",
    "\n",
    "*Provide the output **exactly** as requested*"
   ]
  },
  {
   "cell_type": "markdown",
   "metadata": {},
   "source": [
    "## Solving Normal Form Games"
   ]
  },
  {
   "cell_type": "code",
   "execution_count": 1,
   "metadata": {},
   "outputs": [],
   "source": [
    "from typing import List, Tuple, Dict, Callable\n",
    "from copy import deepcopy"
   ]
  },
  {
   "cell_type": "markdown",
   "metadata": {},
   "source": [
    "In the lecture we talked about the Prisoner's Dilemma game, shown here in Normal Form:\n",
    "\n",
    "Player 1 / Player 2  | Defect | Cooperate\n",
    "------------- | ------------- | -------------\n",
    "Defect  | -5, -5 | -1, -10\n",
    "Cooperate  | -10, -1 | -2, -2\n",
    "\n",
    "where the payoff to Player 1 is the left number and the payoff to Player 2 is the right number. We can represent each payoff cell as a Tuple: `(-5, -5)`, for example. We can represent each row as a List of Tuples: `[(-5, -5), (-1, -10)]` would be the first row and the entire table as a List of Lists:"
   ]
  },
  {
   "cell_type": "code",
   "execution_count": 2,
   "metadata": {},
   "outputs": [
    {
     "data": {
      "text/plain": [
       "[[(-5, -5), (-1, -10)], [(-10, -1), (-2, -2)]]"
      ]
     },
     "execution_count": 2,
     "metadata": {},
     "output_type": "execute_result"
    }
   ],
   "source": [
    "prisoners_dilemma = [\n",
    " [( -5, -5), (-1,-10)],\n",
    " [(-10, -1), (-2, -2)]]\n",
    "\n",
    "prisoners_dilemma"
   ]
  },
  {
   "cell_type": "markdown",
   "metadata": {},
   "source": [
    "in which case the strategies are represented by indices into the List of Lists. For example, `(Defect, Cooperate)` for the above game becomes `prisoners_dilemma[ 0][ 1]` and returns the payoff `(-1, -10)` because 0 is the first row of the table (\"Defect\" for Player 1) and 1 is the 2nd column of the row (\"Cooperate\" for Player 2).\n",
    "\n",
    "For this assignment, you are going write a function that uses Successive Elimination of Dominated Strategies (SEDS) to find the **pure strategy** Nash Equilibrium of a Normal Form Game. The function is called `solve_game`:\n",
    "\n",
    "```python\n",
    "def solve_game( game: List[List[Tuple]], weak=False) -> List[Tuple]:\n",
    "    pass # returns strategy indices of Nash equilibrium or None.\n",
    "```\n",
    "\n",
    "and it takes two parameters: the game, in a format that we described earlier and an optional boolean flag that controls whether the algorithm considers only **strongly dominated strategies** (the default will be false) or whether it should consider **weakly dominated strategies** as well.\n",
    "\n",
    "It should work with game matrices of any size and it will return the **strategy indices** of the Nash Equilibrium. If there is no **pure strategy** equilibrium that can be found using SEDS, return the empty List (`[]`).\n",
    "\n",
    "\n",
    "<div style=\"background: mistyrose; color: firebrick; border: 2px solid darkred; padding: 5px; margin: 10px;\">\n",
    "Do not return the payoff. That's not useful. Return the strategy indices, any other output is incorrect.\n",
    "</div>\n",
    "\n",
    "As before, you must provide your implementation in the space below, one Markdown cell for documentation and one Code cell for implementation, one function and assertations per Codecell.\n",
    "\n",
    "\n",
    "---"
   ]
  },
  {
   "cell_type": "markdown",
   "metadata": {},
   "source": [
    "<a id=\"find_valid_successors\"></a>\n",
    "## find_valid_successors\n",
    "`find_valid_successors` takes the game and a tuple of a list of current leftover rows, and a list of current leftover columns. Also takes a boolean indicating whether we consider weakly dominated strategies. Returns a list of valid successors from the current game state.\n",
    "We can either elimate one row or one column.\n",
    "We check each row whether it's dominated by another row.\n",
    "And we do the same for the columns.\n",
    "**Used by**: [solve_game](#solve_game)\n",
    "\n",
    "* **game** List[List[Tuple]] a 2d list of Tuples, each tuple represent the score for player 1, player 2 at the corresponding strategies.\n",
    "* **current_game_state**: a tuple containing the current leftover rows (a list of ints) and columns (a list of ints) \n",
    "* **weak**: a boolean showing whether we consider weakly dominated strategies.\n",
    "\n",
    "**returns** a list of valid successor game states.\n",
    "\n",
    "Psudocode is as follows for the whole function:\n",
    "1. For each row, we check whether it's dominated by another row, if weak is true we use <= and if it's false we use ==.\n",
    "   Note that if all of the elements in a row are equal to another row, they are still both weakly-dominated in this consideration\n",
    "   If it's the only row, we ignore it.\n",
    "3. If it is, we add it (game, list of rows minus the current row, list of columns),\n",
    "4. We do the same for each column"
   ]
  },
  {
   "cell_type": "code",
   "execution_count": 3,
   "metadata": {},
   "outputs": [],
   "source": [
    "def find_valid_successors(game: List[List[Tuple]], current_game_state:Tuple[List[int],List[int]], weak:bool=False) ->List[Tuple[List[int],[List[int]]]]:\n",
    "    valid_successors = []\n",
    "    for row in current_game_state[0]:\n",
    "        for other_row in current_game_state[0]:\n",
    "            if row != other_row:\n",
    "                if all((weak and game[row][c][0] <= game[other_row][c][0]) or (not weak and game[row][c][0] < game[other_row][c][0]) \n",
    "                for c in current_game_state[1]):\n",
    "                    valid_successors.append(( [r for r in current_game_state[0] if r != row], current_game_state[1]))\n",
    "    for col in current_game_state[1]:\n",
    "        for other_col in current_game_state[1]:         \n",
    "            if col != other_col:\n",
    "                if all((weak and game[r][col][1] <= game[r][other_col][1]) or (not weak and game[r][col][1] < game[r][other_col][1])\n",
    "                for r in current_game_state[0]):\n",
    "                    valid_successors.append((current_game_state[0],  [c for c in current_game_state[1] if c != col]))\n",
    "    return valid_successors"
   ]
  },
  {
   "cell_type": "code",
   "execution_count": 4,
   "metadata": {},
   "outputs": [],
   "source": [
    "game = prisoners_dilemma\n",
    "assert((find_valid_successors(game, ([0,1],[0,1]), False)) == [([0], [0, 1]), ([0, 1], [0])])\n",
    "game = [\n",
    "[(1, 0), (3, 1)],\n",
    "[(1, 1), (3, 0)]]\n",
    "assert((find_valid_successors(game, ([0,1],[0,1]),True)) == [([1], [0, 1]), ([0], [0, 1])])\n",
    "game = [\n",
    "[(2, 1), (3, 1)],\n",
    "[(2, 1), (3, 0)]]\n",
    "assert((find_valid_successors(game, ([1],[0,1]),True)) == [([1], [0])])"
   ]
  },
  {
   "cell_type": "markdown",
   "metadata": {},
   "source": [
    "<a id=\"solve_game\"></a>\n",
    "## solve_game\n",
    "`solve_game` takes a 2d list of tuples and an optional boolean value, output a list of all Nash Equilibrium positions given whether we want to consider weakly dominated strategies. We use State Space Search to solve this problem. Essentially DFS. \n",
    " **Used by**: test games 1-4\n",
    "\n",
    "* **game**: a 2d list of Tuples, each tuple represent the score for player 1, player 2 at the corresponding strategies.\n",
    "* **weak**: whether we consider weakly dominated strategies.\n",
    "\n",
    "**returns** list of tuples each tuple represent a posiition in the original game that is a pure strategy Nash Equilibrium.\n",
    "\n",
    "Psudocode is as follows for the whole function:\n",
    "1. Initialize the starting state: set frontier to be a stack of the following structure: A tuple game_state where game_state[0]= a list of ints for the current available rows, and game_state[1] = a list of ints for the current available columns.\n",
    "2. We put the starting game_state on the frontier\n",
    "3. While the frontier is not empty we do the following:\n",
    "   * We pop the last element from the frontier: current_game_state\n",
    "   * We find valid successors of current_game_state (eliminating one row or one column that is dominated)\n",
    "   * We check if the successor is only one element, if so, we put it on the solution\n",
    "   * Otherwise we append it to the frontier.\n",
    "4. We return the final solution array"
   ]
  },
  {
   "cell_type": "code",
   "execution_count": 5,
   "metadata": {},
   "outputs": [],
   "source": [
    "def solve_game(game: List[List[Tuple]], weak:bool=False) -> List[Tuple]:\n",
    "    frontier = [(list(range(0, len(game))), list(range(0, len(game[0]))))]\n",
    "    solutions = set()\n",
    "    while len(frontier) > 0:\n",
    "        current_game_state = frontier.pop()\n",
    "        successors = find_valid_successors(game, current_game_state, weak)\n",
    "        for successor in successors:\n",
    "            if len(successor[0])==1 and len(successor[1])==1 :\n",
    "                solutions.add((successor[0][0],successor[1][0]))\n",
    "            else:\n",
    "                frontier.append(successor)\n",
    "    return list(solutions)"
   ]
  },
  {
   "cell_type": "markdown",
   "metadata": {
    "jp-MarkdownHeadingCollapsed": true
   },
   "source": [
    "## Additional Directions\n",
    "\n",
    "Create three games as described and according to the following:\n",
    "\n",
    "1. Your games must be created and solved \"by hand\".\n",
    "2. The strategy pairs must **not** be on the main diagonal (0, 0), (1, 1), or (2, 2). And the solution cannot be the same for both Game 1 and Game 2.\n",
    "3. Make sure you fill out the Markdown (\"?\") with your game as well as the solution (\"?\").\n",
    "4. Remember, **do not return the payoff**, return the strategy indices (a list of them)."
   ]
  },
  {
   "cell_type": "markdown",
   "metadata": {},
   "source": [
    "## Before you code...\n",
    "\n",
    "Solve the following game by hand using SEDS and weakly dominated strategies. \n",
    "The game has three (pure) Nash Equilibriums. \n",
    "You should find all of them.\n",
    "This will help you think about what you need to implement to make the algorithm work.\n",
    "**Hint**: You will need State Space Search from Module 1 and SEDS from Module 5 to get the full algorithm to work.\n",
    "\n",
    "| Player 1 / Player 2  | 0 | 1 | 2 |\n",
    "|----|----|----|----|\n",
    "|0  | 1/0 | 3/1 | 1/1 |\n",
    "|1  | 1/1 | 3/0 | 0/1 |\n",
    "|2  | 2/2 | 3/3 | 0/2 |\n",
    "\n",
    "**Solutions**: \n",
    "Let's start with player 1, we can see that strategy 1 is weakly dominated by strategy 0 (also strategy 2 but it doesn't matter), with \n",
    "(1,0) = 1 <= (0,0) = 1; (1,1) = 3 <= (0,1) = 3, and (1,2) = 0 <= (0,2) = 1\n",
    "So we eliminate startegy 1 for player 1 and is left with the following table: \n",
    "\n",
    "| Player 1 / Player 2  | 0 | 1 | 2 |\n",
    "|----|----|----|----|\n",
    "|0  | 1/0 | 3/1 | 1/1 |\n",
    "|2  | 2/2 | 3/3 | 0/2 |\n",
    "\n",
    "Now let's switch to player 2, we see that strategy 0 is strongly dominated by strategy 1 (also strategy 2 is weakly dominatated by strategy 1 but we go in order, this is essentially a form of DFS, so we will go back to this), with (0,0) = 0 < (0,1) = 1; (2,0) = 2 < (2,1) = 3. So we eliminate strategy 0 and get the following table:\n",
    "| Player 1 / Player 2  | 1 | 2 |\n",
    "|----|----|----|\n",
    "|0  | 3/1 | 1/1 |\n",
    "|2  | 3/3 | 0/2 |\n",
    "\n",
    "We can either continue with player 2 or we can switch to player 1, so let's do player 1 first: we see that strategy 2 is weakly dominated by strategy 0, with (2,1) = 3 <= (0,1) = 3; (2,2) = 0 <= (0,2) = 1. So we eliminate strategy 2, and we get the following: \n",
    "\n",
    "| Player 1 / Player 2  | 1 | 2 |\n",
    "|----|----|----|\n",
    "|0  | 3/1 | 1/1 |\n",
    "\n",
    "So now player 2 can pick either strategy as they are equal. So both of these are Nash equilibriums. We insert them to solutions.\n",
    "\n",
    "If we go back and pick player 2 to continue, we can eliminate stragety 2 for player 2 as it's weakly dominated by strategy 1: (0,2) = 1 <= (0,1) = 1; (2,2) = 2 <= (2,1) = 3. So we get: \n",
    "\n",
    "| Player 1 / Player 2  | 1 |\n",
    "|----|----|\n",
    "|0  | 3/1 |\n",
    "|2  | 3/3 |\n",
    "\n",
    "We see that player 1 can pick either strategy and earn the same score of 3. So they are both Nash equilibriums. Therefore we insert them into the solution and we get the solution is {(0,1), (0,2), (2,1)}, notice there could be duplicates in the process so we use a set to track the solutions and convert to a list at the end.\n",
    "\n",
    "We technically haven't finished yet, but if we go back to the original table, we see that if we pick player 2 first, there is no strategy that's dominated by another strategy. So this is the solution: [(0,1), (0,2), (2,1)]"
   ]
  },
  {
   "cell_type": "markdown",
   "metadata": {},
   "source": [
    "### Test Game 1. Create a 3x3 two player game\n",
    "\n",
    "**that can only be solved using the Successive Elimintation of Strongly Dominated Strategies**\n",
    "With the current implementation, it's impossible for a problem to be only solvable using Successive Elimintation of Strongly Dominated Strategies. \n",
    "Weakly dominated strategies strickly explores broader states.\n",
    "\n",
    "| Player 1 / Player 2  | 0 | 1 | 2 |\n",
    "|----|----|----|----|\n",
    "|0  | 3/2 | 2/3 | 0/4 |\n",
    "|1  | 4/1 | 3/2 | 1/3 |\n",
    "|2  | 1/1 | 4/4 | 2/3 |\n",
    "\n",
    "**Solution:** [2,1]"
   ]
  },
  {
   "cell_type": "code",
   "execution_count": 6,
   "metadata": {},
   "outputs": [],
   "source": [
    "test_game_1 = [\n",
    "[(3, 2), (2, 3), (0, 4)],\n",
    "[(4, 1), (3, 2), (1, 3)],\n",
    "[(1, 1), (4, 4), (2, 3)]]\n",
    "\n",
    "solution = solve_game(test_game_1)"
   ]
  },
  {
   "cell_type": "code",
   "execution_count": 7,
   "metadata": {},
   "outputs": [],
   "source": [
    "assert solution == [(2,1)]"
   ]
  },
  {
   "cell_type": "markdown",
   "metadata": {},
   "source": [
    "### Test Game 2. Create a 3x3 two player game\n",
    "\n",
    "**that can only be solved using the Successive Elimintation of Weakly Dominated Strategies**\n",
    "\n",
    "| Player 1 / Player 2  | 0 | 1 | 2 |\n",
    "|----|----|----|----|\n",
    "|0  | 1/1 | 2/2 | 3/3 |\n",
    "|1  | 2/2 | 3/3 | 4/4 |\n",
    "|2  | 3/3 | 5/5 | 4/4 |\n",
    "\n",
    "**Solution:** [(2,1)]"
   ]
  },
  {
   "cell_type": "code",
   "execution_count": 8,
   "metadata": {},
   "outputs": [],
   "source": [
    "test_game_2 =  [\n",
    "[(1, 1), (2, 2), (3, 3)],\n",
    "[(2, 2), (3, 3), (4, 4)],\n",
    "[(3, 3), (5, 5), (4, 4)]]\n",
    "\n",
    "strong_solution = solve_game( test_game_2)\n",
    "weak_solution = solve_game(test_game_2, weak=True)"
   ]
  },
  {
   "cell_type": "code",
   "execution_count": 9,
   "metadata": {},
   "outputs": [],
   "source": [
    "assert strong_solution == []\n",
    "assert weak_solution == [(2, 1)]"
   ]
  },
  {
   "cell_type": "markdown",
   "metadata": {},
   "source": [
    "### Test Game 3. Create a 3x3 two player game\n",
    "\n",
    "**that cannot be solved using the Successive Elimintation of Dominated Strategies at all**\n",
    "\n",
    "| Player 1 / Player 2  | 0 | 1 | 2 |\n",
    "|----|----|----|----|\n",
    "|0  | 1/0 | 3/1 | 1/1 |\n",
    "|1  | 1/1 | 2/0 | 2/1 |\n",
    "|2  | 2/2 | 3/3 | 0/0 |\n",
    "\n",
    "**Solution:** None"
   ]
  },
  {
   "cell_type": "code",
   "execution_count": 10,
   "metadata": {},
   "outputs": [],
   "source": [
    "test_game_3 = [\n",
    "[(1, 0), (3, 1), (1, 1)],\n",
    "[(1, 1), (2, 0), (2, 1)],\n",
    "[(2, 2), (3, 3), (0, 0)]]\n",
    "\n",
    "\n",
    "strong_solution = solve_game( test_game_3)\n",
    "weak_solution = solve_game( test_game_3, weak=True)"
   ]
  },
  {
   "cell_type": "code",
   "execution_count": 11,
   "metadata": {},
   "outputs": [],
   "source": [
    "assert strong_solution == []\n",
    "assert weak_solution == []"
   ]
  },
  {
   "cell_type": "markdown",
   "metadata": {},
   "source": [
    "### Test Game 4. Multiple Equilibria\n",
    "\n",
    "You solve the following game by hand, above.\n",
    "Now use your code to solve it.\n",
    "\n",
    "| Player 1 / Player 2  | 0 | 1 | 2 |\n",
    "|----|----|----|----|\n",
    "|0  | 1/0 | 3/1 | 1/1 |\n",
    "|1  | 1/1 | 3/0 | 0/1 |\n",
    "|2  | 2/2 | 3/3 | 0/2 |\n",
    "\n",
    "**Solutions:**  [(0,1), (0,2), (2,1)]"
   ]
  },
  {
   "cell_type": "code",
   "execution_count": 12,
   "metadata": {},
   "outputs": [],
   "source": [
    "test_game_4 = [\n",
    "[(1, 0), (3, 1), (1, 1)],\n",
    "[(1, 1), (3, 0), (0, 3)],\n",
    "[(2, 2), (3, 3), (0, 2)]]\n",
    "\n",
    "strong_solution = solve_game( test_game_4)\n",
    "weak_solution = solve_game( test_game_4, weak=True)"
   ]
  },
  {
   "cell_type": "code",
   "execution_count": 13,
   "metadata": {},
   "outputs": [],
   "source": [
    "assert strong_solution == []\n",
    "assert weak_solution == [(0,1), (0,2), (2,1)]"
   ]
  },
  {
   "cell_type": "markdown",
   "metadata": {},
   "source": [
    "## Before You Submit...\n",
    "\n",
    "1. Did you provide output exactly as requested? **Don't forget to fill out the Markdown tables with your games**.\n",
    "2. Did you re-execute the entire notebook? (\"Restart Kernel and Rull All Cells...\")\n",
    "3. If you did not complete the assignment or had difficulty please explain what gave you the most difficulty in the Markdown cell below.\n",
    "4. Did you change the name of the file to `jhed_id.ipynb`?\n",
    "\n",
    "Do not submit any other files."
   ]
  }
 ],
 "metadata": {
  "kernelspec": {
   "display_name": "Python (en605645)",
   "language": "python",
   "name": "en605645"
  },
  "language_info": {
   "codemirror_mode": {
    "name": "ipython",
    "version": 3
   },
   "file_extension": ".py",
   "mimetype": "text/x-python",
   "name": "python",
   "nbconvert_exporter": "python",
   "pygments_lexer": "ipython3",
   "version": "3.11.11"
  },
  "toc": {
   "colors": {
    "hover_highlight": "#DAA520",
    "navigate_num": "#000000",
    "navigate_text": "#333333",
    "running_highlight": "#FF0000",
    "selected_highlight": "#FFD700",
    "sidebar_border": "#EEEEEE",
    "wrapper_background": "#FFFFFF"
   },
   "moveMenuLeft": true,
   "nav_menu": {
    "height": "135px",
    "width": "252px"
   },
   "navigate_menu": true,
   "number_sections": true,
   "sideBar": true,
   "threshold": 4,
   "toc_cell": false,
   "toc_section_display": "block",
   "toc_window_display": false,
   "widenNotebook": false
  }
 },
 "nbformat": 4,
 "nbformat_minor": 4
}
