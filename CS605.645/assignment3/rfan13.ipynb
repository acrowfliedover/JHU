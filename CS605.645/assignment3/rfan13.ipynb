{
 "cells": [
  {
   "cell_type": "markdown",
   "metadata": {},
   "source": [
    "# Module 3 - Programming Assignment\n",
    "\n",
    "## General Directions\n",
    "\n",
    "1. You must follow the Programming Requirements outlined on Canvas.\n",
    "2. The Notebook should be cleanly and fully executed before submission.\n",
    "3. You should change the name of this file to be your JHED id. For example, `jsmith299.ipynb` although Canvas will change it to something else...\n",
    "4. You must follow the Programming Requirments for this course.\n",
    "\n",
    "<div style=\"background: lemonchiffon; margin:20px; padding: 20px;\">\n",
    "    <strong>Important</strong>\n",
    "    <p>\n",
    "        You should always read the entire assignment before beginning your work, so that you know in advance what the requested output will be and can plan your implementation accordingly.\n",
    "    </p>\n",
    "</div>\n",
    "\n",
    "<div style=\"color: white; background: #C83F49; margin:20px; padding: 20px;\">\n",
    "    <strong>Academic Integrity and Copyright</strong>\n",
    "    <p>You are not permitted to consult outside sources (Stackoverflow, YouTube, ChatGPT, etc.) or use \"code assistance\" (Co-Pilot, etc) to complete this assignment. By submitting this assignment for grading, you certify that the submission is 100% your own work, based on course materials, group interactions, instructor guidance. You agree to comply by the requirements set forth in the Syllabus, including, by reference, the JHU KSAS/WSE Graduate Academic Misconduct Policy.</p>\n",
    "    <p>Sharing this assignment either directly (e.g., email, github, homework site) or indirectly (e.g., ChatGPT, machine learning platform) is a violation of the copyright. Additionally, all such sharing is a violation the Graduate Academic Misconduct Policy (facilitating academic dishonesty is itself academic dishonesty), even after you graduate.</p>\n",
    "    <p>If you have questions or if you're unsure about the policy, ask via Canvas Inbox. In this case, being forgiven is <strong>not</strong> easier than getting permission and ignorance is not an excuse.</p>\n",
    "    <p>This assignment is copyright (&copy Johns Hopkins University &amp; Stephyn G. W. Butcher). All rights reserved.</p>\n",
    "</div>"
   ]
  },
  {
   "cell_type": "code",
   "execution_count": 1,
   "metadata": {},
   "outputs": [],
   "source": [
    "from pprint import pprint\n",
    "import random\n",
    "from typing import List, Tuple, Dict, Callable, Set, Any"
   ]
  },
  {
   "cell_type": "markdown",
   "metadata": {},
   "source": [
    "## Local Search - Genetic Algorithm\n",
    "\n",
    "There are some key ideas in the Genetic Algorithm.\n",
    "\n",
    "First, there is a problem of some kind that either *is* an optimization problem or the solution can be expressed in terms of an optimization problem.\n",
    "For example, if we wanted to minimize the function\n",
    "\n",
    "$$f(x) = \\sum (x_i - 0.5)^2$$\n",
    "\n",
    "where $n = 10$.\n",
    "This *is* an optimization problem. Normally, optimization problems are much, much harder.\n",
    "\n",
    "![Eggholder](http://www.sfu.ca/~ssurjano/egg.png)!\n",
    "\n",
    "The function we wish to optimize is often called the **objective function**.\n",
    "The objective function is closely related to the **fitness** function in the GA.\n",
    "If we have a **maximization** problem, then we can use the objective function directly as a fitness function.\n",
    "If we have a **minimization** problem, then we need to convert the objective function into a suitable fitness function, since fitness functions must always mean \"more is better\".\n",
    "\n",
    "Second, we need to *encode* candidate solutions using an \"alphabet\" analogous to G, A, T, C in DNA.\n",
    "This encoding can be quite abstract.\n",
    "You saw this in the Self Check.\n",
    "There a floating point number was encoded as bits, just as in a computer and a sophisticated decoding scheme was then required.\n",
    "\n",
    "Sometimes, the encoding need not be very complicated at all.\n",
    "For example, in the real-valued GA, discussed in the Lectures, we could represent 2.73 as....2.73.\n",
    "This is similarly true for a string matching problem.\n",
    "We *could* encode \"a\" as \"a\", 97, or '01100001'.\n",
    "And then \"hello\" would be:\n",
    "\n",
    "```\n",
    "[\"h\", \"e\", \"l\", \"l\", \"o\"]\n",
    "```\n",
    "\n",
    "or\n",
    "\n",
    "```\n",
    "[104, 101, 108, 108, 111]\n",
    "```\n",
    "\n",
    "or\n",
    "\n",
    "```\n",
    "0, 1, 1, 0, 1, 0, 0, 0, 0, 1, 1, 0, 0, 1, 0, 1, 0, 1, 1, 0, 1, 1, 0, 0, 0, 1, 1, 0, 1, 1, 0, 0, 0, 1, 1, 0, 1, 1, 1, 1\n",
    "```\n",
    "\n",
    "In Genetics terminology, this is the **chromosome** of the individual. And if this individual had the **phenotype** \"h\" for the first character then they would have the **genotype** for \"h\" (either as \"h\", 104, or 01101000).\n",
    "\n",
    "To keep it straight, think **geno**type is **genes** and **pheno**type is **phenomenon**, the actual thing that the genes express.\n",
    "So while we might encode a number as 10110110 (genotype), the number itself, 182, is what goes into the fitness function.\n",
    "The environment operates on zebras, not the genes for stripes."
   ]
  },
  {
   "cell_type": "markdown",
   "metadata": {},
   "source": [
    "## String Matching\n",
    "\n",
    "You are going to write a Genetic Algorithm that will solve the problem of matching a target string (at least at the start).\n",
    "Now, this is kind of silly because in order for this to work, you need to know the target string and if you know the target string, why are you trying to do it?\n",
    "Well, the problem is *pedagogical*.\n",
    "It's a fun way of visualizing the GA at work, because as the GA finds better and better candidates, they make more and more sense.\n",
    "\n",
    "Now, string matching is not *directly* an optimization problem so this falls under the general category of \"if we convert the problem into an optimization problem we can solve it with an optimization algorithm\" approach to problem solving.\n",
    "This happens all the time.\n",
    "We have a problem.\n",
    "We can't solve it.\n",
    "We convert it to a problem we *can* solve.\n",
    "In this case, we're using the GA to solve the optimization part.\n",
    "\n",
    "And all we need is some sort of measure of the difference between two strings.\n",
    "The only constraint for our objective function is that it must calculate the score based on element to element (character to character) comparisons with no global transformations of the candidate or target strings.\n",
    "That measure becomes our **objective function** and we can use it with the Genetic Algorithm.\n",
    "\n",
    "Since it is probably easier to come up with a score that measures how far apart the two strings are, we will end up with an objective function that represents a **minimization problem**.\n",
    "Because a fitness function must always be \"more is better\", we'll need to convert our objective function to a proper fitness function as well.\n",
    "\n",
    "And since this is a GA, we need a **genotype**.\n",
    "The genotype for this problem is a list of \"characters\" (individual letters aren't special in Python like they are in some other languages):\n",
    "\n",
    "```\n",
    "[\"h\", \"e\", \"l\", \"l\", \"o\"]\n",
    "```\n",
    "\n",
    "and the **phenotype** is the resulting string:\n",
    "\n",
    "```\n",
    "\"hello\"\n",
    "```\n",
    "\n",
    "In addition to the generic code and problem specific loss function, you'll need to pick parameters for the run.\n",
    "These parameters include:\n",
    "\n",
    "1. population size\n",
    "2. number of generations\n",
    "3. probability of crossover\n",
    "4. probability of mutation\n",
    "\n",
    "You will also need to pick a selection algorithm, either roulette wheel or tournament selection.\n",
    "In the later case, you will need a tournament size.\n",
    "This is all part of the problem.\n",
    "\n",
    "Every **ten** (10) generations, you should print out the fitness, genotype, and phenotype of the best individual in the population for the specific generation.\n",
    "The function should return the best individual *of the entire run*, using the same format."
   ]
  },
  {
   "cell_type": "code",
   "execution_count": 2,
   "metadata": {},
   "outputs": [],
   "source": [
    "ALPHABET = \"abcdefghijklmnopqrstuvwxyz \""
   ]
  },
  {
   "cell_type": "markdown",
   "metadata": {},
   "source": [
    "<a id=\"generate_random_population\"></a>\n",
    "## generate_random_population\n",
    "`generate_random_population` takes an string alphabet and an integer n representing the amount in the population, returns a list of length n, each element is a list of characters which is the genotype of the individual. The string the list of character represents is the phenotype.\n",
    "We will randomly choose a length between 1 and 100 and fill that length with random letters within the ALPHABET\n",
    " **Used by**: [genetic_algorithm](#genetic_algorithm)\n",
    "\n",
    "* **alphabet**: a string representing the random pool.\n",
    "* **n**: an integer representing the length of output.\n",
    "\n",
    "**returns** list of list of characters: random_population."
   ]
  },
  {
   "cell_type": "code",
   "execution_count": 3,
   "metadata": {},
   "outputs": [],
   "source": [
    "def generate_random_population(n:int, alphabet:str) -> list[list[str]]:\n",
    "    random_population = []\n",
    "    for i in range(n):\n",
    "        length = random.randint(1, 20)\n",
    "        current_string = []\n",
    "        for j in range(length):\n",
    "            current_string.append(random.choice(alphabet))\n",
    "        random_population.append(current_string)\n",
    "    return random_population"
   ]
  },
  {
   "cell_type": "code",
   "execution_count": 4,
   "metadata": {},
   "outputs": [
    {
     "data": {
      "text/plain": [
       "[['x', 'b'],\n",
       " ['i', 'j'],\n",
       " ['u', 'g', 'g'],\n",
       " ['y', 'k', 'b', 'w', 'u', 'i', 'm', 'h', 'v', 'l', 't', 'h'],\n",
       " ['v', 'w', 't', 'a', 's', 'j', 'y', 'b', 'u'],\n",
       " ['d', 'l', 'b', 'd', 'v'],\n",
       " ['a', 'g'],\n",
       " ['c',\n",
       "  'v',\n",
       "  'g',\n",
       "  'n',\n",
       "  'w',\n",
       "  'y',\n",
       "  'o',\n",
       "  'm',\n",
       "  'c',\n",
       "  'a',\n",
       "  'v',\n",
       "  't',\n",
       "  'g',\n",
       "  'l',\n",
       "  'c',\n",
       "  'k',\n",
       "  'w',\n",
       "  'o',\n",
       "  'd',\n",
       "  'q'],\n",
       " ['q',\n",
       "  ' ',\n",
       "  'o',\n",
       "  't',\n",
       "  'k',\n",
       "  't',\n",
       "  'y',\n",
       "  'b',\n",
       "  'y',\n",
       "  'h',\n",
       "  ' ',\n",
       "  'j',\n",
       "  'f',\n",
       "  's',\n",
       "  'a',\n",
       "  'p',\n",
       "  'y',\n",
       "  's',\n",
       "  'w',\n",
       "  'a'],\n",
       " ['u', 'z', 'w', 'r', 'v']]"
      ]
     },
     "execution_count": 4,
     "metadata": {},
     "output_type": "execute_result"
    }
   ],
   "source": [
    "generate_random_population(10, ALPHABET)"
   ]
  },
  {
   "cell_type": "markdown",
   "metadata": {},
   "source": [
    "<a id=\"fitness_function_1\"></a>\n",
    "## fitness_function_1\n",
    "\n",
    "This is the fitness function used for problem 1. `fitness_function_1` takes two strings, one is the phenotype of the current individual, and the other is the target. Returns a number that is the fitness score, the higher the better fit it is. **Used by**: [Problem_1](#Problem_1)\n",
    "\n",
    "We calculate the score by iterating through both strings in the corresponding way and compare each letter. If they satisfy the condition of the problem, then fitness score +1.\n",
    "\n",
    "For problem 1, we just iterate through the strings one by one and see if they match.\n",
    "\n",
    "We penalize the length difference a bit, by dividing the score by 1+0.1*abs(length difference), just so it's faster to get to the optimal length and the crossovers become more effective.\n",
    "\n",
    "* **current_individual**: a string.\n",
    "* **target**: a string.\n",
    "\n",
    "**returns** number: fitness_score."
   ]
  },
  {
   "cell_type": "code",
   "execution_count": 5,
   "metadata": {},
   "outputs": [],
   "source": [
    "def fitness_function_1(current_phenotype:str, target:str) -> float:\n",
    "    fitness_score = 0.0\n",
    "    length_difference = abs(len(current_phenotype) - len(target))\n",
    "    for i in range(0, min(len(current_phenotype), len(target))):\n",
    "        if current_phenotype[i] == target [i]:\n",
    "            fitness_score += 1.0\n",
    "    fitness_score /= (1 + 0.1 * length_difference)\n",
    "    return fitness_score"
   ]
  },
  {
   "cell_type": "code",
   "execution_count": 6,
   "metadata": {},
   "outputs": [
    {
     "name": "stdout",
     "output_type": "stream",
     "text": [
      "1.6\n",
      "10.714285714285715\n",
      "19.0\n",
      "6.551724137931034\n"
     ]
    }
   ],
   "source": [
    "print(fitness_function_1(\"this\",  \"this is so much fun\"))\n",
    "print(fitness_function_1(\"this is so much\",  \"this is so much fun\"))\n",
    "print(fitness_function_1(\"this is so much fun\",  \"this is so much fun\"))\n",
    "print(fitness_function_1(\"this is so much fun but more than that\",  \"this is so much fun\"))"
   ]
  },
  {
   "cell_type": "markdown",
   "metadata": {},
   "source": [
    "<a id=\"evaluate_population\"></a>\n",
    "## evaluate_population\n",
    "\n",
    "Passes in a population of genotypes, the target string and a fitness function, find the phenotypes of the pupulation and calculate their fitness score. Returns the list of fitness scores. **Used by**: [genetic_algorithm](#genetic_algorithm)\n",
    "\n",
    "* **population**: a list of list of characters (one char string)\n",
    "* **target**: a string\n",
    "* **fitness_function**: a string\n",
    "\n",
    "**returns** a list of fitness scores list of numbers"
   ]
  },
  {
   "cell_type": "code",
   "execution_count": 7,
   "metadata": {},
   "outputs": [],
   "source": [
    "def evaluate_population( population: List[List[str]], target: str, fitness_function: callable) -> List[float]:\n",
    "    fitness_scores = []\n",
    "    for individual in population:\n",
    "        phenotype = \"\".join(individual)\n",
    "        fitness_scores.append(fitness_function(phenotype, target))\n",
    "    return fitness_scores"
   ]
  },
  {
   "cell_type": "code",
   "execution_count": 8,
   "metadata": {},
   "outputs": [
    {
     "name": "stdout",
     "output_type": "stream",
     "text": [
      "[2.0, 0.8333333333333334, 0.9090909090909091, 0.9090909090909091, 1.8181818181818181, 0.0, 0.0, 0.9090909090909091, 0.7692307692307692]\n"
     ]
    }
   ],
   "source": [
    "test_population = [[\"a\", \"b\", \"c\"], [\"a\"], [\"e\", \"f\", \"g\", \"h\"], [\"e\", \"f\"], [\"a\", \"f\"], [\" \"], [\"f\", \"c\"], [\"a\", \"c\"], [\"a\", \"c\", \"e\", \"f\", \"g\", \"h\"]]\n",
    "test_target = \"afc\"\n",
    "test_scores=evaluate_population(test_population, test_target, fitness_function_1)\n",
    "print(test_scores)"
   ]
  },
  {
   "cell_type": "markdown",
   "metadata": {},
   "source": [
    "<a id=\"get_best_individual\"></a>\n",
    "## get_best_individual\n",
    "\n",
    "From the current best individual, current population and current scores, return the best individual from new population, if none is better, returns the old best. Best individual is a tuple that contains **Used by**: [genetic_algorithm](#genetic_algorithm)\n",
    "1. fitness_score: a float\n",
    "2. genotype: a list of characters (a list of str)\n",
    "3. phenotype: a string\n",
    "\n",
    "* **best_individual**: a tuple of 3 elements: a float, a list of strs, and a string\n",
    "* **population**: a list of list of characters (one char string)\n",
    "* **scores**: a list of floats\n",
    "\n",
    "**returns** best_individual: a tuple of 3 elements: a float, a list of strs, and a string"
   ]
  },
  {
   "cell_type": "code",
   "execution_count": 9,
   "metadata": {},
   "outputs": [],
   "source": [
    "def get_best_individual(best_individual: Tuple[float,List[str],str], population: List[List[str]], scores: List[float]) ->Tuple[float,List[str],str]:\n",
    "    best_score = max(scores)\n",
    "    if best_individual[0] > best_score:\n",
    "        return best_individual\n",
    "    best_index = scores.index(best_score)\n",
    "    return (best_score, population[best_index], \"\".join(population[best_index]))"
   ]
  },
  {
   "cell_type": "code",
   "execution_count": 10,
   "metadata": {},
   "outputs": [
    {
     "name": "stdout",
     "output_type": "stream",
     "text": [
      "(2.0, ['a', 'b', 'c'], 'abc')\n",
      "(3.0, ['a', 'f', 'c'], 'afc')\n"
     ]
    }
   ],
   "source": [
    "test_best_individual = (0,[\"b\"], \"b\")\n",
    "test_best_individual = get_best_individual(test_best_individual, test_population, test_scores)\n",
    "print(test_best_individual)\n",
    "test_best_individual = (3.0,[\"a\",\"f\",\"c\"], \"afc\")\n",
    "test_best_individual = get_best_individual(test_best_individual, test_population, test_scores)\n",
    "print(test_best_individual)"
   ]
  },
  {
   "cell_type": "markdown",
   "metadata": {},
   "source": [
    "<a id=\"pick_parents\"></a>\n",
    "## pick_parents\n",
    "\n",
    "Giving the population and their scores, randomly pick the parents using the tornament method. Return the parents as a list of their genotypes **Used by**: [genetic_algorithm](#genetic_algorithm)\n",
    "We randomly choose 7 different individuals and pick the best one as one parent, twice. This could cause the parents to be the same individual but it's fine. \n",
    "\n",
    "* **population**: a list of list of characters (one char string)\n",
    "* **scores**: a list of floats\n",
    "\n",
    "**returns** parents: a list of 2 elements, each of them a list of strs"
   ]
  },
  {
   "cell_type": "code",
   "execution_count": 11,
   "metadata": {},
   "outputs": [],
   "source": [
    "def pick_parents( population: List[List[str]], scores: List[float]) -> List[List[str]]:\n",
    "    parents = []\n",
    "    for i in range (2):\n",
    "        random_indexs = random.sample(range(0, len(population)), 7)\n",
    "        selected_scores = [scores[i] for i in random_indexs]\n",
    "        best_score = max(selected_scores)\n",
    "        best_index = selected_scores.index(best_score)\n",
    "        real_index = random_indexs[best_index]\n",
    "        parents.append(population[real_index])\n",
    "    return parents\n"
   ]
  },
  {
   "cell_type": "code",
   "execution_count": 12,
   "metadata": {},
   "outputs": [
    {
     "name": "stdout",
     "output_type": "stream",
     "text": [
      "[['a', 'f'], ['a', 'b', 'c']]\n",
      "[['a', 'b', 'c'], ['a', 'b', 'c']]\n"
     ]
    }
   ],
   "source": [
    "test_parents = pick_parents(test_population, test_scores)\n",
    "print(test_parents)\n",
    "test_parents = pick_parents(test_population, test_scores)\n",
    "print(test_parents)"
   ]
  },
  {
   "cell_type": "markdown",
   "metadata": {},
   "source": [
    "<a id=\"reproduce\"></a>\n",
    "## reproduce\n",
    "\n",
    "Giving a list of 2 genotypes as the parents, an integer generation to calculate the mutation rate and a string as the alphabet to choose the mutation from, return the a list 2 children as genotype **Used by**: [genetic_algorithm](#genetic_algorithm)\n",
    "\n",
    "We determine the mutation rate as 10 / (10 + generation) so that the mutation rate is less and less later on, a similar concept as simulated annealing.\n",
    "The crossover always happens, we just randomly determine the crossover place. Due to the nature of this problem, a crossover is almost always beneficial, since it will usually generate a child that's better than the parents and one worse the the parents. And we want the one that's better to survive. \n",
    "\n",
    "* **parents**: a list with just 2 elements of list of characters (one char string) \n",
    "* **generation**: an integer\n",
    "* **alphabet**: an string to pick from for the mutations\n",
    "  \n",
    "**returns** children: a list of 2 elements of list of characters (one char string) "
   ]
  },
  {
   "cell_type": "code",
   "execution_count": 13,
   "metadata": {},
   "outputs": [],
   "source": [
    "def reproduce( parents: List[List[str]], generation: int, alphabet: str) -> List[List[str]]:\n",
    "    shorter_length = min(len(parents[0]), len(parents[1])) # cross over\n",
    "    crossover_point = random.randint(0, shorter_length-1)\n",
    "    child0 = parents[0][:crossover_point] + parents[1][crossover_point:]\n",
    "    child1 = parents[1][:crossover_point] + parents[0][crossover_point:]\n",
    "    children = [child0, child1]\n",
    "    for child in children:\n",
    "        if random.uniform(0,1) < 10 / (10 + generation): #mutations\n",
    "            index = random.randint(0, len(child) + 1)\n",
    "            if index == len(child):\n",
    "                child.pop()\n",
    "            elif index == len(child) + 1:\n",
    "                child.append(random.choice(alphabet))\n",
    "            else:\n",
    "                child[index] = random.choice(alphabet)\n",
    "    return children"
   ]
  },
  {
   "cell_type": "code",
   "execution_count": 14,
   "metadata": {},
   "outputs": [
    {
     "name": "stdout",
     "output_type": "stream",
     "text": [
      "[['a', 'b', 'f', 'x'], ['d', 'z', 'c', 'a', 'b', 'c']]\n",
      "[['d', 'e', 'f'], ['a', 'b', 'c', 'a', 'a', 'c']]\n",
      "[['a', 'b', 'f', 'l'], ['d', 'e', 'c', 'a', 'n', 'c']]\n"
     ]
    }
   ],
   "source": [
    "test_parents = [['a', 'b', 'c', 'a', 'b', 'c' ], ['d', 'e', 'f']]\n",
    "test_generation = 0\n",
    "alphabet = ALPHABET\n",
    "children = reproduce(test_parents, test_generation, alphabet)\n",
    "print(children)\n",
    "children = reproduce(test_parents, test_generation, alphabet)\n",
    "print(children)\n",
    "children = reproduce(test_parents, test_generation, alphabet)\n",
    "print(children)"
   ]
  },
  {
   "cell_type": "markdown",
   "metadata": {},
   "source": [
    "<a id=\"genetic_algorithm\"></a>\n",
    "### genetic_algorithm\n",
    "\n",
    "genetic_algorithm takes in a dictionary contains all of the arguments, it contains the following:\n",
    "* **population_size**: an integer for the total population size to be run on.\n",
    "* **generation_limit**: an integer for the number of generation to be run.\n",
    "* **alphabet**: a string for the list of characters to pick from.\n",
    "* **target**: the target string\n",
    "* **fitness_function** a callable that takes the individual and target and returns a score. For the nature of this problem, its maximum is the length of the target string.\n",
    "\n",
    "It will:\n",
    "1. create a population of size **population_size**\n",
    "2. until we reach the best possible score or count of generations, we keep generating new generations\n",
    "3. calculate the scores of the population using the **fitness_function**\n",
    "4. find the best individual among the population\n",
    "5. print out the current best individual every 10 generations\n",
    "6. pick parents and generate their children so that the next generation is the same size of the old population\n",
    "7. **returns** the best individual with its score, genotype and phenotype"
   ]
  },
  {
   "cell_type": "code",
   "execution_count": 15,
   "metadata": {},
   "outputs": [],
   "source": [
    "def genetic_algorithm(arguments: Dict[str, Any]) -> Tuple[float, List[str], str]:\n",
    "    population = generate_random_population(arguments[\"population_size\"], arguments[\"alphabet\"])\n",
    "    current_generation = 0\n",
    "    best_individual = (0.0, [], \"\")\n",
    "    while current_generation < arguments[\"generation_limit\"]:\n",
    "        scores = evaluate_population(population, arguments[\"target\"], arguments[\"fitness_function\"])\n",
    "        best_individual = get_best_individual(best_individual, population, scores)\n",
    "        if current_generation % 10 == 0:\n",
    "            pprint(best_individual, compact = True)\n",
    "        if best_individual[0] == len(arguments[\"target\"]):\n",
    "            return best_individual\n",
    "        next_population = []\n",
    "        for i in range(arguments[\"population_size\"] // 2):\n",
    "            parents = pick_parents(population, scores)\n",
    "            children = reproduce(parents, current_generation, arguments[\"alphabet\"])\n",
    "            for child in children:\n",
    "                next_population.append(child)\n",
    "        current_generation += 1\n",
    "        population = next_population\n",
    "    return best_individual"
   ]
  },
  {
   "cell_type": "markdown",
   "metadata": {},
   "source": [
    "## Problem 1\n",
    "\n",
    "The target is the string \"this is so much fun\".\n",
    "The challenge, aside from implementing the basic algorithm, is deriving a fitness function based on \"b\" - \"p\" (for example).\n",
    "The fitness function should come up with a fitness score based on element to element comparisons between target v. phenotype."
   ]
  },
  {
   "cell_type": "code",
   "execution_count": 16,
   "metadata": {},
   "outputs": [],
   "source": [
    "target1 = \"this is so much fun\""
   ]
  },
  {
   "cell_type": "code",
   "execution_count": 17,
   "metadata": {},
   "outputs": [],
   "source": [
    "arguments1 = {\"population_size\": 100, \"generation_limit\":500, \"target\": target1, \"fitness_function\": fitness_function_1, \"alphabet\": ALPHABET}"
   ]
  },
  {
   "cell_type": "code",
   "execution_count": 18,
   "metadata": {},
   "outputs": [
    {
     "name": "stdout",
     "output_type": "stream",
     "text": [
      "(2.0,\n",
      " ['a', 'd', 'u', 'm', 'w', 'y', 's', 'w', 'e', 'o', 'r', 'c', 'v', 'u', 's',\n",
      "  'p', 'r', 'z', 'l'],\n",
      " 'adumwysweorcvusprzl')\n",
      "(11.0,\n",
      " ['t', 'h', 's', 'y', ' ', 'u', 's', ' ', 's', 'q', 'n', 'm', 'u', 'c', 'q',\n",
      "  'd', 'x', 'u', 'n'],\n",
      " 'thsy us sqnmucqdxun')\n",
      "(15.0,\n",
      " ['t', 'h', 'n', 's', ' ', 'i', 's', ' ', 's', 'o', 'n', 'm', 'u', 'c', 'q',\n",
      "  ' ', 'x', 'u', 'n'],\n",
      " 'thns is sonmucq xun')\n",
      "(17.0,\n",
      " ['t', 'h', 'i', 's', ' ', 'i', 's', ' ', 's', 'o', ' ', 'm', 'u', 'c', 'i',\n",
      "  ' ', 'o', 'u', 'n'],\n",
      " 'this is so muci oun')\n"
     ]
    }
   ],
   "source": [
    "result1 = genetic_algorithm(arguments1) # do what you need to do for your implementation but don't change the lines above or below."
   ]
  },
  {
   "cell_type": "code",
   "execution_count": 19,
   "metadata": {},
   "outputs": [
    {
     "name": "stdout",
     "output_type": "stream",
     "text": [
      "(19.0,\n",
      " ['t', 'h', 'i', 's', ' ', 'i', 's', ' ', 's', 'o', ' ', 'm', 'u', 'c', 'h',\n",
      "  ' ', 'f', 'u', 'n'],\n",
      " 'this is so much fun')\n"
     ]
    }
   ],
   "source": [
    "pprint(result1, compact=True)"
   ]
  },
  {
   "cell_type": "markdown",
   "metadata": {},
   "source": [
    "## Problem 2\n",
    "\n",
    "You should have working code now.\n",
    "The goal here is to think a bit more about fitness functions.\n",
    "The target string is now, 'nuf hcum os si siht'.\n",
    "This is obviously target #1 but reversed.\n",
    "If we just wanted to match the string, this would be trivial.\n",
    "Instead, this problem, we want to \"decode\" the string so that the best individual displays the target forwards.\n",
    "In order to do this, you'll need to come up with a fitness function that measures how successful candidates are towards this goal.\n",
    "The constraint is that you may not perform any global operations on the target or individuals.\n",
    "Your fitness function must still compare a single gene against a single gene.\n",
    "Your solution will likely not be Pythonic but use indexing.\n",
    "That's ok.\n",
    "<div style=\"background: lemonchiffon; margin:20px; padding: 20px;\">\n",
    "    <strong>Important</strong>\n",
    "    <p>\n",
    "        You may not reverse an entire string (either target or candidate) at any time.\n",
    "        Everything must be a computation of one gene against one gene (one letter against one letter).\n",
    "        Failure to follow these directions will result in 0 points for the problem.\n",
    "    </p>\n",
    "</div>\n",
    "\n",
    "The best individual in the population is the one who expresses this string *forwards*.\n",
    "\n",
    "\"this is so much fun\""
   ]
  },
  {
   "cell_type": "markdown",
   "metadata": {},
   "source": [
    "<a id=\"fitness_function_2\"></a>\n",
    "## fitness_function_2\n",
    "\n",
    "This is the fitness function used for problem 2. `fitness_function_2` takes two strings, one is the phenotype of the current individual, and the other is the target. Returns a number that is the fitness score, the higher the better fit it is. **Used by**: [Problem_2](#Problem_2)\n",
    "\n",
    "We calculate the score by iterating through both strings in the corresponding way and compare each letter. If they satisfy the condition of the problem, then fitness score +1.\n",
    "\n",
    "For problem 2, we just iterate through the current individual forward and the target backward.\n",
    "\n",
    "We penalize the length difference a bit, by dividing the score by 1+0.1*abs(length difference), just so it's faster to get to the optimal length and the crossovers become more effective.\n",
    "\n",
    "* **current_individual**: a string.\n",
    "* **target**: a string.\n",
    "\n",
    "**returns** number: fitness_score."
   ]
  },
  {
   "cell_type": "code",
   "execution_count": 20,
   "metadata": {},
   "outputs": [],
   "source": [
    "def fitness_function_2(current_phenotype:str, target:str) -> float:\n",
    "    fitness_score = 0.0\n",
    "    length_difference = abs(len(current_phenotype) - len(target))\n",
    "    for i in range(0, min(len(current_phenotype), len(target))):\n",
    "        if current_phenotype[i] == target [-1-i]:\n",
    "            fitness_score += 1.0\n",
    "    fitness_score /= (1 + 0.1 * length_difference)\n",
    "    return fitness_score"
   ]
  },
  {
   "cell_type": "code",
   "execution_count": 21,
   "metadata": {},
   "outputs": [
    {
     "name": "stdout",
     "output_type": "stream",
     "text": [
      "1.6\n",
      "10.714285714285715\n",
      "19.0\n",
      "6.551724137931034\n"
     ]
    }
   ],
   "source": [
    "print(fitness_function_2(\"this\",  \"nuf hcum os si siht\"))\n",
    "print(fitness_function_2(\"this is so much\", \"nuf hcum os si siht\"))\n",
    "print(fitness_function_2(\"this is so much fun\",  \"nuf hcum os si siht\"))\n",
    "print(fitness_function_2(\"this is so much fun but more than that\", \"nuf hcum os si siht\"))"
   ]
  },
  {
   "cell_type": "code",
   "execution_count": 22,
   "metadata": {},
   "outputs": [],
   "source": [
    "target2 = \"nuf hcum os si siht\""
   ]
  },
  {
   "cell_type": "code",
   "execution_count": 23,
   "metadata": {},
   "outputs": [],
   "source": [
    "arguments2 = {\"population_size\": 100, \"generation_limit\":500, \"target\": target2, \"fitness_function\": fitness_function_2, \"alphabet\": ALPHABET}"
   ]
  },
  {
   "cell_type": "code",
   "execution_count": 24,
   "metadata": {},
   "outputs": [
    {
     "name": "stdout",
     "output_type": "stream",
     "text": [
      "(3.0,\n",
      " ['z', 'k', 'r', 'o', 't', 'z', 's', 'x', 'i', 'v', 'e', 'm', 'd', 'e', 'h',\n",
      "  't', 'y', 'z', 'm'],\n",
      " 'zkrotzsxivemdehtyzm')\n",
      "(10.0,\n",
      " ['t', 'h', 'o', 's', 's', 'g', 's', 'p', 's', 'o', 'k', 'm', 'f', 'j', 'h',\n",
      "  't', 'f', 'u', 's'],\n",
      " 'thossgspsokmfjhtfus')\n",
      "(15.0,\n",
      " ['t', 'h', 'o', 's', 's', 'u', 's', ' ', 's', 'o', ' ', 'm', 'u', 'j', 'h',\n",
      "  ' ', 'f', 'u', 'n'],\n",
      " 'thossus so mujh fun')\n",
      "(17.0,\n",
      " ['t', 'h', 'i', 's', 'a', 'i', 's', ' ', 's', 'o', ' ', 'm', 'u', 'j', 'h',\n",
      "  ' ', 'f', 'u', 'n'],\n",
      " 'thisais so mujh fun')\n",
      "(17.0,\n",
      " ['t', 'h', 'i', 's', 's', 'i', 's', ' ', 's', 'o', ' ', 'm', 'u', 'j', 'h',\n",
      "  ' ', 'f', 'u', 'n'],\n",
      " 'thissis so mujh fun')\n",
      "(17.0,\n",
      " ['t', 'h', 'i', 's', 'r', 'i', 's', ' ', 's', 'o', ' ', 'm', 'u', 'f', 'h',\n",
      "  ' ', 'f', 'u', 'n'],\n",
      " 'thisris so mufh fun')\n",
      "(18.0,\n",
      " ['t', 'h', 'i', 's', ' ', 'i', 's', ' ', 's', 'o', ' ', 'm', 'u', 'p', 'h',\n",
      "  ' ', 'f', 'u', 'n'],\n",
      " 'this is so muph fun')\n",
      "(18.0,\n",
      " ['t', 'h', 'i', 's', ' ', 'i', 's', ' ', 's', 'o', ' ', 'm', 'u', 'f', 'h',\n",
      "  ' ', 'f', 'u', 'n'],\n",
      " 'this is so mufh fun')\n",
      "(18.0,\n",
      " ['t', 'h', 'i', 's', ' ', 'i', 's', ' ', 's', 'o', ' ', 'm', 'u', 'h', 'h',\n",
      "  ' ', 'f', 'u', 'n'],\n",
      " 'this is so muhh fun')\n",
      "(18.0,\n",
      " ['t', 'h', 'i', 's', ' ', 'i', 's', ' ', 's', 'o', ' ', 'm', 'u', 'f', 'h',\n",
      "  ' ', 'f', 'u', 'n'],\n",
      " 'this is so mufh fun')\n",
      "(18.0,\n",
      " ['t', 'h', 'i', 's', ' ', 'i', 's', ' ', 's', 'o', ' ', 'm', 'u', 'j', 'h',\n",
      "  ' ', 'f', 'u', 'n'],\n",
      " 'this is so mujh fun')\n",
      "(18.0,\n",
      " ['t', 'h', 'i', 's', ' ', 'i', 's', ' ', 's', 'o', ' ', 'm', 'u', 'j', 'h',\n",
      "  ' ', 'f', 'u', 'n'],\n",
      " 'this is so mujh fun')\n"
     ]
    }
   ],
   "source": [
    "result2 = genetic_algorithm(arguments2) # do what you need to do for your implementation but don't change the lines above or below."
   ]
  },
  {
   "cell_type": "code",
   "execution_count": 25,
   "metadata": {},
   "outputs": [
    {
     "name": "stdout",
     "output_type": "stream",
     "text": [
      "(19.0,\n",
      " ['t', 'h', 'i', 's', ' ', 'i', 's', ' ', 's', 'o', ' ', 'm', 'u', 'c', 'h',\n",
      "  ' ', 'f', 'u', 'n'],\n",
      " 'this is so much fun')\n"
     ]
    }
   ],
   "source": [
    "pprint(result2, compact=True)"
   ]
  },
  {
   "cell_type": "markdown",
   "metadata": {},
   "source": [
    "## Problem 3\n",
    "\n",
    "This is a variation on the theme of Problem 2.\n",
    "The Caeser Cypher replaces each letter of a string with the letter 13 characters down alphabet (rotating from \"z\" back to \"a\" as needed).\n",
    "This is also known as ROT13 (for \"rotate 13\").\n",
    "Latin did not have spaces (and the space is not continguous with the letters a-z) so we'll remove them from our alphabet.\n",
    "Again, the goal is to derive a fitness function that compares a single gene against a single gene, without global transformations.\n",
    "This fitness function assigns higher scores to individuals that correctly decode the target.\n",
    "\n",
    "<div style=\"background: lemonchiffon; margin:20px; padding: 20px;\">\n",
    "    <strong>Important</strong>\n",
    "    <p>\n",
    "        You may not apply ROT13 to an entire string (either target or candidate) at any time.\n",
    "        Everything must be a computation of one gene against one gene.\n",
    "        Failure to follow these directions will result in 0 points for the problem.\n",
    "    </p>\n",
    "</div>\n",
    "\n",
    "The best individual will express the target *decoded*.\n",
    "\n",
    "\"thisissomuchfun\""
   ]
  },
  {
   "cell_type": "markdown",
   "metadata": {},
   "source": [
    "<a id=\"fitness_function_3\"></a>\n",
    "## fitness_function_3\n",
    "\n",
    "This is the fitness function used for problem 3. `fitness_function_3` takes two strings, one is the phenotype of the current individual, and the other is the target. Returns a number that is the fitness score, the higher the better fit it is. **Used by**: [Problem_3](#Problem_3)\n",
    "\n",
    "We calculate the score by iterating through both strings in the corresponding way and compare each letter. If they satisfy the condition of the problem, then fitness score +1.\n",
    "\n",
    "For problem 3, we iterate through the current string forward normally and rotate the letter to check of the target string by 13. Because the number 13 is right in the middle, it's the same rotating either one.\n",
    "\n",
    "We penalize the length difference a bit, by dividing the score by 1+0.1*abs(length difference), just so it's faster to get to the optimal length and the crossovers become more effective.\n",
    "\n",
    "* **current_individual**: a string.\n",
    "* **target**: a string.\n",
    "\n",
    "**returns** number: fitness_score."
   ]
  },
  {
   "cell_type": "code",
   "execution_count": 26,
   "metadata": {},
   "outputs": [],
   "source": [
    "def fitness_function_3(current_phenotype:str, target:str) -> float:\n",
    "    fitness_score = 0.0\n",
    "    length_difference = abs(len(current_phenotype) - len(target))\n",
    "    for i in range(0, min(len(current_phenotype), len(target))):\n",
    "        if ord(current_phenotype[i]) + 13 == ord(target[i][0]) or ord(current_phenotype[i]) - 13 == ord(target[i][0]):\n",
    "            fitness_score += 1.0\n",
    "    fitness_score /= (1 + 0.1 * length_difference)\n",
    "    return fitness_score"
   ]
  },
  {
   "cell_type": "code",
   "execution_count": 27,
   "metadata": {},
   "outputs": [
    {
     "name": "stdout",
     "output_type": "stream",
     "text": [
      "1.9047619047619047\n",
      "9.23076923076923\n",
      "15.0\n",
      "6.0\n"
     ]
    }
   ],
   "source": [
    "print(fitness_function_3(\"this\",  \"guvfvffbzhpusha\"))\n",
    "print(fitness_function_3(\"thisissomuch\", \"guvfvffbzhpusha\"))\n",
    "print(fitness_function_3(\"thisissomuchfun\",  \"guvfvffbzhpusha\"))\n",
    "print(fitness_function_3(\"thisissomuchfunbutmorethanthat\", \"guvfvffbzhpusha\"))"
   ]
  },
  {
   "cell_type": "code",
   "execution_count": 28,
   "metadata": {},
   "outputs": [],
   "source": [
    "ALPHABET3 = \"abcdefghijklmnopqrstuvwxyz\""
   ]
  },
  {
   "cell_type": "code",
   "execution_count": 29,
   "metadata": {},
   "outputs": [],
   "source": [
    "target3 = \"guvfvffbzhpusha\""
   ]
  },
  {
   "cell_type": "code",
   "execution_count": 30,
   "metadata": {},
   "outputs": [],
   "source": [
    "arguments3 = {\"population_size\": 100, \"generation_limit\":500, \"target\": target3, \"fitness_function\": fitness_function_3, \"alphabet\": ALPHABET3}"
   ]
  },
  {
   "cell_type": "code",
   "execution_count": 31,
   "metadata": {},
   "outputs": [
    {
     "name": "stdout",
     "output_type": "stream",
     "text": [
      "(2.727272727272727,\n",
      " ['t', 'e', 'o', 'a', 'y', 's', 'r', 'm', 'a', 'h', 'g', 'p', 'f', 'h', 'g',\n",
      "  'p'],\n",
      " 'teoaysrmahgpfhgp')\n",
      "(10.0,\n",
      " ['t', 'h', 'i', 's', 'i', 's', 's', 'o', 'd', 'u', 'r', 'v', 'f', 's', 'n',\n",
      "  'q'],\n",
      " 'thisissodurvfsnq')\n",
      "(14.0,\n",
      " ['t', 'h', 'i', 's', 'i', 's', 's', 'o', 'm', 'u', 'c', 'h', 'f', 's', 'n'],\n",
      " 'thisissomuchfsn')\n",
      "(14.0,\n",
      " ['t', 'h', 'i', 's', 'i', 's', 's', 'o', 'm', 'u', 'c', 'h', 'f', 's', 'n'],\n",
      " 'thisissomuchfsn')\n",
      "(14.0,\n",
      " ['t', 'h', 'i', 's', 'i', 's', 's', 'o', 'm', 'u', 'c', 'h', 'f', 's', 'n'],\n",
      " 'thisissomuchfsn')\n"
     ]
    }
   ],
   "source": [
    "result3 = genetic_algorithm(arguments3) # do what you need to do for your implementation but don't change the lines above or below."
   ]
  },
  {
   "cell_type": "code",
   "execution_count": 32,
   "metadata": {},
   "outputs": [
    {
     "name": "stdout",
     "output_type": "stream",
     "text": [
      "(15.0,\n",
      " ['t', 'h', 'i', 's', 'i', 's', 's', 'o', 'm', 'u', 'c', 'h', 'f', 'u', 'n'],\n",
      " 'thisissomuchfun')\n"
     ]
    }
   ],
   "source": [
    "pprint(result3, compact=True)"
   ]
  },
  {
   "cell_type": "markdown",
   "metadata": {},
   "source": [
    "## Problem 4\n",
    "\n",
    "There is no code for this problem.\n",
    "\n",
    "In Problem 3, we assumed we knew what the shift was in ROT-13.\n",
    "What if we didn't?\n",
    "Describe how you might solve that problem including a description of the solution encoding (chromosome and interpretation) and fitness function. Assume we can add spaces into the message."
   ]
  },
  {
   "cell_type": "markdown",
   "metadata": {},
   "source": [
    "For each of such problem, we need to come up with a fitness function, I don't think we can come up with one if the rule of the question is arbitrary. \n",
    "We need to know how the target looks like and how we want the individuals look like. Since they are both phenotypes, I don't see why we don't just use the target as what we want in real applications. However, in real applications, we don't know the target, we just want the best individual that satisfy some conditions. Essentially, we need to convert the target to a list of conditions to satisfy and give them weights. In this particular problem, we have a map of 't' to 'g', 'h' to 'u' and so on. And each letter has equal weight. Any letters not on the list we will give them no score. Then we can use the same fitness function except we get the result from the map."
   ]
  },
  {
   "cell_type": "markdown",
   "metadata": {},
   "source": [
    "## Challenge\n",
    "\n",
    "**You do not need to do this problem and it won't be graded if you do. It's just here if you want to push your understanding.**\n",
    "\n",
    "The original GA used binary encodings for everything.\n",
    "We're basically using a Base 27 encoding.\n",
    "You could, however, write a version of the algorithm that uses an 8 bit encoding for each letter (ignore spaces as they're a bit of a bother).\n",
    "That is, a 4 letter candidate looks like this:\n",
    "\n",
    "```\n",
    "0, 1, 1, 0, 1, 0, 0, 0, 0, 1, 1, 0, 0, 1, 0, 1, 0, 1, 1, 0, 1, 1, 0, 0, 0, 1, 1, 0, 1, 1, 0, 0, 0, 1, 1, 0, 1, 1, 1, 1\n",
    "```\n",
    "\n",
    "If you wrote your `genetic_algorithm` code general enough, with higher order functions, you should be able to implement it using bit strings instead of latin strings."
   ]
  },
  {
   "cell_type": "markdown",
   "metadata": {},
   "source": [
    "## Before You Submit...\n",
    "\n",
    "1. Did you provide output exactly as requested?\n",
    "2. Did you re-execute the entire notebook? (\"Restart Kernel and Rull All Cells...\")\n",
    "3. If you did not complete the assignment or had difficulty please explain what gave you the most difficulty in the Markdown cell below.\n",
    "4. Did you change the name of the file to `jhed_id.ipynb`?\n",
    "\n",
    "Do not submit any other files."
   ]
  },
  {
   "cell_type": "code",
   "execution_count": null,
   "metadata": {},
   "outputs": [],
   "source": []
  }
 ],
 "metadata": {
  "kernelspec": {
   "display_name": "Python (en605645)",
   "language": "python",
   "name": "en605645"
  },
  "language_info": {
   "codemirror_mode": {
    "name": "ipython",
    "version": 3
   },
   "file_extension": ".py",
   "mimetype": "text/x-python",
   "name": "python",
   "nbconvert_exporter": "python",
   "pygments_lexer": "ipython3",
   "version": "3.11.11"
  },
  "toc": {
   "colors": {
    "hover_highlight": "#DAA520",
    "navigate_num": "#000000",
    "navigate_text": "#333333",
    "running_highlight": "#FF0000",
    "selected_highlight": "#FFD700",
    "sidebar_border": "#EEEEEE",
    "wrapper_background": "#FFFFFF"
   },
   "moveMenuLeft": true,
   "nav_menu": {
    "height": "120px",
    "width": "252px"
   },
   "navigate_menu": true,
   "number_sections": true,
   "sideBar": true,
   "threshold": 4,
   "toc_cell": false,
   "toc_section_display": "block",
   "toc_window_display": false,
   "widenNotebook": false
  }
 },
 "nbformat": 4,
 "nbformat_minor": 4
}
